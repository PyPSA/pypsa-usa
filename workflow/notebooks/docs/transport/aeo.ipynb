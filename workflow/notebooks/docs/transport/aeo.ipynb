{
 "cells": [
  {
   "cell_type": "code",
   "execution_count": null,
   "metadata": {},
   "outputs": [],
   "source": [
    "import matplotlib.pyplot as plt\n",
    "import pandas as pd\n",
    "from eia import EnergyDemand, TransportationDemand"
   ]
  },
  {
   "cell_type": "code",
   "execution_count": null,
   "metadata": {},
   "outputs": [],
   "source": [
    "API = \"\""
   ]
  },
  {
   "cell_type": "code",
   "execution_count": null,
   "metadata": {},
   "outputs": [],
   "source": [
    "scenarios = [\"reference\", \"no_ira\", \"low_ira\", \"high_ira\", \"low_growth\", \"high_growth\"]"
   ]
  },
  {
   "cell_type": "code",
   "execution_count": null,
   "metadata": {},
   "outputs": [],
   "source": [
    "df = pd.DataFrame()\n",
    "for scenario in scenarios:\n",
    "    temp = EnergyDemand(\"residential\", 2050, API, scenario).get_data()\n",
    "    temp = temp.rename(columns={\"value\": scenario})\n",
    "    if df.empty:\n",
    "        df = temp[scenario].to_frame()\n",
    "    else:\n",
    "        df = df.join(temp[scenario].to_frame())\n",
    "\n",
    "df = df.rename(\n",
    "    columns={\n",
    "        \"reference\": \"Reference\",\n",
    "        \"no_ira\": \"No Inflation Reduction Act\",\n",
    "        \"low_ira\": \"Low Uptake of Inflation Reduction Act\",\n",
    "        \"high_ira\": \"High Uptake of Inflation Reduction Act\",\n",
    "        \"low_growth\": \"Low Economic Growth\",\n",
    "        \"high_growth\": \"High Economic Growth\",\n",
    "    }\n",
    ")"
   ]
  },
  {
   "cell_type": "code",
   "execution_count": null,
   "metadata": {},
   "outputs": [],
   "source": [
    "fig, axs = plt.subplots(1, 1, figsize=(12, 5))\n",
    "df.plot(ylabel=\"Quads\", xlabel=\"\", ax=axs)\n",
    "fig.savefig(\"aeo-residenital.png\", dpi=300)"
   ]
  },
  {
   "cell_type": "code",
   "execution_count": null,
   "metadata": {},
   "outputs": [],
   "source": [
    "df = pd.DataFrame()\n",
    "for scenario in scenarios:\n",
    "    temp = EnergyDemand(\"commercial\", 2050, API, scenario).get_data()\n",
    "    temp = temp.rename(columns={\"value\": scenario})\n",
    "    if df.empty:\n",
    "        df = temp[scenario].to_frame()\n",
    "    else:\n",
    "        df = df.join(temp[scenario].to_frame())\n",
    "\n",
    "df = df.rename(\n",
    "    columns={\n",
    "        \"reference\": \"Reference\",\n",
    "        \"no_ira\": \"No Inflation Reduction Act\",\n",
    "        \"low_ira\": \"Low Uptake of Inflation Reduction Act\",\n",
    "        \"high_ira\": \"High Uptake of Inflation Reduction Act\",\n",
    "        \"low_growth\": \"Low Economic Growth\",\n",
    "        \"high_growth\": \"High Economic Growth\",\n",
    "    }\n",
    ")"
   ]
  },
  {
   "cell_type": "code",
   "execution_count": null,
   "metadata": {},
   "outputs": [],
   "source": [
    "fig, axs = plt.subplots(1, 1, figsize=(12, 5))\n",
    "df.plot(ylabel=\"Quads\", xlabel=\"\", ax=axs)\n",
    "fig.savefig(\"aeo-commercial.png\", dpi=300)"
   ]
  },
  {
   "cell_type": "code",
   "execution_count": null,
   "metadata": {},
   "outputs": [],
   "source": [
    "vehicle_codes = {\n",
    "    \"light_duty\": \"kei_trv_trn_NA_ldv_NA_NA_blnvehmls\",\n",
    "    \"med_duty\": \"kei_trv_trn_NA_cml_NA_NA_blnvehmls\",\n",
    "    \"heavy_duty\": \"kei_trv_trn_NA_fght_NA_NA_blnvehmls\",\n",
    "    \"bus\": \"_trv_trn_NA_bst_NA_NA_bpm\",\n",
    "    \"rail_passenger\": \"_trv_trn_NA_rlp_NA_NA_bpm\",\n",
    "    \"boat_shipping\": \"kei_trv_trn_NA_dmt_NA_NA_blntnmls\",\n",
    "    \"rail_shipping\": \"kei_trv_trn_NA_rail_NA_NA_blntnmls\",\n",
    "    \"air\": \"kei_trv_trn_NA_air_NA_NA_blnseatmls\",\n",
    "}"
   ]
  },
  {
   "cell_type": "code",
   "execution_count": null,
   "metadata": {},
   "outputs": [],
   "source": [
    "df = pd.DataFrame()\n",
    "for scenario in scenarios:\n",
    "    temp = TransportationDemand(\"heavy_duty\", 2050, API, \"travel\", scenario).get_data()\n",
    "    temp = temp.rename(columns={\"value\": scenario})\n",
    "    if df.empty:\n",
    "        df = temp[scenario].to_frame()\n",
    "    else:\n",
    "        df = df.join(temp[scenario].to_frame())\n",
    "\n",
    "df = df.rename(\n",
    "    columns={\n",
    "        \"reference\": \"Reference\",\n",
    "        \"no_ira\": \"No Inflation Reduction Act\",\n",
    "        \"low_ira\": \"Low Uptake of Inflation Reduction Act\",\n",
    "        \"high_ira\": \"High Uptake of Inflation Reduction Act\",\n",
    "        \"low_growth\": \"Low Economic Growth\",\n",
    "        \"high_growth\": \"High Economic Growth\",\n",
    "    }\n",
    ")\n",
    "\n",
    "fig, axs = plt.subplots(1, 1, figsize=(12, 5))\n",
    "df.plot(ylabel=\"Billion Vehicle Miles\", xlabel=\"\", ax=axs)\n",
    "fig.savefig(\"aeo-heavy-duty.png\", dpi=300)"
   ]
  }
 ],
 "metadata": {
  "kernelspec": {
   "display_name": "pypsa-usa",
   "language": "python",
   "name": "python3"
  },
  "language_info": {
   "codemirror_mode": {
    "name": "ipython",
    "version": 3
   },
   "file_extension": ".py",
   "mimetype": "text/x-python",
   "name": "python",
   "nbconvert_exporter": "python",
   "pygments_lexer": "ipython3",
   "version": "3.11.9"
  }
 },
 "nbformat": 4,
 "nbformat_minor": 2
}
