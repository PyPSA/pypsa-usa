{
 "cells": [
  {
   "cell_type": "code",
   "execution_count": null,
   "metadata": {},
   "outputs": [],
   "source": [
    "import pandas as pd\n",
    "import geopandas as gpd\n",
    "import matplotlib.pyplot as plt\n",
    "import seaborn as sns\n",
    "import math\n",
    "\n",
    "import os\n",
    "\n",
    "from build_demand import ReadCliu, ReadEfs, ReadEia, ReadEulp"
   ]
  },
  {
   "cell_type": "code",
   "execution_count": null,
   "metadata": {},
   "outputs": [],
   "source": [
    "cliu = ReadCliu(\n",
    "    \"./../data/industry_load/2014_update_20170910-0116.csv\",\n",
    "    epri_filepath=\"./../data/industry_load/epri_industrial_loads.csv\",\n",
    "    mecs_filepath=\"./../data/industry_load/table3_2.xlsx\",\n",
    "    fips_filepath=\"./../data/industry_load/fips_codes.csv\",\n",
    ").read_demand()"
   ]
  },
  {
   "cell_type": "code",
   "execution_count": null,
   "metadata": {},
   "outputs": [],
   "source": [
    "cali = cliu.loc[:, \"industry\", \"all\", :][\"California\"].to_frame().reset_index()\n",
    "cali = cali.pivot(index=\"snapshot\", columns=\"fuel\", values=\"California\")\n",
    "cali = cali.rename(columns={\"cool\": \"Cooling\", \"heat\": \"Heating\", \"lpg\": \"Oil\", \"electricity\": \"Electricity\"})\n",
    "cali = cali[[\"Electricity\", \"Heating\", \"Cooling\", \"Oil\"]]\n",
    "cali.columns.name = \"\"\n",
    "cali"
   ]
  },
  {
   "cell_type": "code",
   "execution_count": null,
   "metadata": {},
   "outputs": [],
   "source": [
    "fig, ax = plt.subplots(1, 1, figsize=(12, 6))\n",
    "# cali.resample(\"W\").mean().plot(ax=ax)\n",
    "cali.iloc[:168].plot(ax=ax, xlabel=\"\", ylabel=\"MW\", color=[\"tab:olive\", \"tab:red\", \"tab:blue\", \"black\"])\n",
    "fig.savefig(\"Industry.png\", dpi=400)"
   ]
  }
 ],
 "metadata": {
  "kernelspec": {
   "display_name": "pypsa-usa",
   "language": "python",
   "name": "python3"
  },
  "language_info": {
   "codemirror_mode": {
    "name": "ipython",
    "version": 3
   },
   "file_extension": ".py",
   "mimetype": "text/x-python",
   "name": "python",
   "nbconvert_exporter": "python",
   "pygments_lexer": "ipython3",
   "version": "3.11.9"
  }
 },
 "nbformat": 4,
 "nbformat_minor": 2
}
