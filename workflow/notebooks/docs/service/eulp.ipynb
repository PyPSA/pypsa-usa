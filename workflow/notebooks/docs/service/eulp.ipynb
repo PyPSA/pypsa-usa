{
 "cells": [
  {
   "cell_type": "code",
   "execution_count": null,
   "metadata": {},
   "outputs": [],
   "source": [
    "import matplotlib.pyplot as plt\n",
    "import pandas as pd"
   ]
  },
  {
   "cell_type": "code",
   "execution_count": null,
   "metadata": {},
   "outputs": [],
   "source": [
    "COLORS = {\"Electricity\": \"y\", \"Space Heating\": \"r\", \"Water Heating\": \"g\", \"Space Cooling\": \"b\"}"
   ]
  },
  {
   "cell_type": "code",
   "execution_count": null,
   "metadata": {},
   "outputs": [],
   "source": [
    "res = pd.read_csv(\"res/CA.csv\", index_col=0)\n",
    "res = res.drop(columns=[\"heating\"]).rename(\n",
    "    columns={\n",
    "        \"electricity\": \"Electricity\",\n",
    "        \"space_heating\": \"Space Heating\",\n",
    "        \"water_heating\": \"Water Heating\",\n",
    "        \"cooling\": \"Space Cooling\",\n",
    "    }\n",
    ")\n",
    "res.index = pd.DatetimeIndex(res.index) - pd.DateOffset(hours=3)  # time in EST\n",
    "res_d = res.resample(\"D\").mean()\n",
    "res_h = res[(res.index >= \"2018-01-01\") & (res.index < \"2018-01-08\")]\n",
    "\n",
    "fig, axs = plt.subplots(1, 2, sharey=False, figsize=(16, 5))\n",
    "res_d.plot(ax=axs[0], xlabel=\"(a)\", ylabel=\"MW\", color=[COLORS.get(x) for x in res.columns])\n",
    "res_h.plot(ax=axs[1], xlabel=\"(b)\", ylabel=\"MW\", color=[COLORS.get(x) for x in res.columns])\n",
    "fig.tight_layout()\n",
    "fig.savefig(\"res-profile.png\", dpi=300)"
   ]
  },
  {
   "cell_type": "code",
   "execution_count": null,
   "metadata": {},
   "outputs": [],
   "source": [
    "com = pd.read_csv(\"com/CA.csv\", index_col=0)\n",
    "com = com.drop(columns=[\"heating\"]).rename(\n",
    "    columns={\n",
    "        \"electricity\": \"Electricity\",\n",
    "        \"space_heating\": \"Space Heating\",\n",
    "        \"water_heating\": \"Water Heating\",\n",
    "        \"cooling\": \"Space Cooling\",\n",
    "    }\n",
    ")\n",
    "com.index = pd.DatetimeIndex(com.index) - pd.DateOffset(hours=3)  # time in EST\n",
    "com_d = com.resample(\"D\").mean()\n",
    "com_h = com[(com.index >= \"2018-01-01\") & (com.index < \"2018-01-08\")]\n",
    "\n",
    "fig, axs = plt.subplots(1, 2, sharey=False, figsize=(16, 5))\n",
    "com_d.plot(ax=axs[0], xlabel=\"(a)\", ylabel=\"MW\", color=[COLORS.get(x) for x in com.columns])\n",
    "com_h.plot(ax=axs[1], xlabel=\"(b)\", ylabel=\"MW\", color=[COLORS.get(x) for x in com.columns])\n",
    "fig.tight_layout()\n",
    "fig.savefig(\"com-profile.png\", dpi=300)"
   ]
  }
 ],
 "metadata": {
  "kernelspec": {
   "display_name": "pypsa-usa",
   "language": "python",
   "name": "python3"
  },
  "language_info": {
   "codemirror_mode": {
    "name": "ipython",
    "version": 3
   },
   "file_extension": ".py",
   "mimetype": "text/x-python",
   "name": "python",
   "nbconvert_exporter": "python",
   "pygments_lexer": "ipython3",
   "version": "3.11.9"
  }
 },
 "nbformat": 4,
 "nbformat_minor": 2
}
