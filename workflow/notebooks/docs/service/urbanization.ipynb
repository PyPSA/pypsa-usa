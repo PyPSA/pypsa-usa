{
 "cells": [
  {
   "cell_type": "code",
   "execution_count": null,
   "metadata": {},
   "outputs": [],
   "source": [
    "import geopandas as gpd\n",
    "import matplotlib.pyplot as plt\n",
    "import pandas as pd"
   ]
  },
  {
   "cell_type": "code",
   "execution_count": null,
   "metadata": {},
   "outputs": [],
   "source": [
    "gdf = gpd.read_file(\"counties/cb_2020_us_county_500k.shp\")"
   ]
  },
  {
   "cell_type": "code",
   "execution_count": null,
   "metadata": {},
   "outputs": [],
   "source": [
    "gdf2 = gdf.copy()\n",
    "gdf2 = gdf[gdf.STUSPS == \"CA\"]\n",
    "gdf2.plot()"
   ]
  },
  {
   "cell_type": "code",
   "execution_count": null,
   "metadata": {},
   "outputs": [],
   "source": [
    "df = pd.read_csv(\"urbanization/DECENNIALDHC2020.H2-Data.csv\")\n",
    "df = df[df.GEO_ID.isin(gdf2.AFFGEOID)]\n",
    "df[\"ratio\"] = df[\"H2_002N\"].astype(float).div(df[\"H2_001N\"].astype(float))\n",
    "df = df.set_index(\"GEO_ID\")[\"ratio\"].to_frame()\n",
    "df.head(3)"
   ]
  },
  {
   "cell_type": "code",
   "execution_count": null,
   "metadata": {},
   "outputs": [],
   "source": [
    "gdf3 = gdf2.copy()\n",
    "gdf3 = gdf3.set_index(\"AFFGEOID\")\n",
    "gdf3 = gdf3[\"geometry\"].to_frame()\n",
    "gdf3 = gdf3.join(df)"
   ]
  },
  {
   "cell_type": "code",
   "execution_count": null,
   "metadata": {},
   "outputs": [],
   "source": [
    "fig, ax = plt.subplots(1, 1, figsize=(6, 6))\n",
    "gdf3.plot(column=\"ratio\", legend=True, legend_kwds={\"label\": \"Urbanization Ratio\"}, ax=ax)\n",
    "fig.tight_layout()\n",
    "fig.savefig(\"Urbanization.png\", dpi=300)"
   ]
  }
 ],
 "metadata": {
  "kernelspec": {
   "display_name": "pypsa-usa",
   "language": "python",
   "name": "python3"
  },
  "language_info": {
   "codemirror_mode": {
    "name": "ipython",
    "version": 3
   },
   "file_extension": ".py",
   "mimetype": "text/x-python",
   "name": "python",
   "nbconvert_exporter": "python",
   "pygments_lexer": "ipython3",
   "version": "3.11.9"
  }
 },
 "nbformat": 4,
 "nbformat_minor": 2
}
