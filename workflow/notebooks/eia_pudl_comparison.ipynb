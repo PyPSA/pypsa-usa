{
 "cells": [
  {
   "cell_type": "code",
   "execution_count": 18,
   "metadata": {},
   "outputs": [],
   "source": [
    "import pandas as pd\n",
    "import sqlite3"
   ]
  },
  {
   "cell_type": "code",
   "execution_count": 19,
   "metadata": {},
   "outputs": [],
   "source": [
    "gen_cols = [\n",
    "    'plant_code',\n",
    "    'plant_name',\n",
    "    'generator_id',\n",
    "    'operating_year',\n",
    "    'nameplate_capacity_mw',\n",
    "    'summer_capacity_mw',\n",
    "    'winter_capacity_mw',\n",
    "    'minimum_load_mw',\n",
    "    'energy_source_1',\n",
    "    'technology',\n",
    "    'status',\n",
    "    'prime_mover',\n",
    "    'operating_month',\n",
    "    'operating_year',\n",
    "    'planned_retirement_month',\n",
    "    'planned_retirement_year',\n",
    "    ]\n",
    "\n",
    "con = sqlite3.connect(\"../data/pudl/pudl.sqlite\")\n",
    "\n",
    "cur = con.cursor()\n",
    "\n",
    "res = cur.execute(\"\"\"SELECT m.name as tableName,\n",
    "       p.name as columnName\n",
    "FROM sqlite_master m\n",
    "left outer join pragma_table_info((m.name)) p\n",
    "     on m.name <> p.name\n",
    "order by tableName, columnName\"\"\")\n",
    "\n",
    "table_cols = res.fetchall()\n",
    "\n"
   ]
  },
  {
   "cell_type": "code",
   "execution_count": 20,
   "metadata": {},
   "outputs": [],
   "source": [
    "# table_cols is a list of tuples, where each tuple is a table name and a column name\n",
    "\n",
    "exact_matches = []\n",
    "similar_matches = []\n",
    "not_found = []\n",
    "\n",
    "for col in gen_cols:\n",
    "    found_col = False\n",
    "    for table, column in table_cols:\n",
    "        if col == column:\n",
    "            exact_matches.append((col, table))\n",
    "            found_col = True\n",
    "        elif column and col not in exact_matches and col in column:\n",
    "            similar_matches.append((col, table, column))\n",
    "            found_col = True\n",
    "    if not found_col:\n",
    "        not_found.append(col)\n",
    "\n"
   ]
  },
  {
   "cell_type": "code",
   "execution_count": 30,
   "metadata": {},
   "outputs": [
    {
     "name": "stdout",
     "output_type": "stream",
     "text": [
      "Exact gen matches:\n"
     ]
    },
    {
     "data": {
      "text/plain": [
       "0     (generator_id, _out_eia__monthly_capacity_fact...\n",
       "1     (generator_id, _out_eia__monthly_derived_gener...\n",
       "2     (generator_id, _out_eia__monthly_fuel_cost_by_...\n",
       "3     (generator_id, _out_eia__monthly_heat_rate_by_...\n",
       "4     (generator_id, _out_eia__yearly_capacity_facto...\n",
       "5     (generator_id, _out_eia__yearly_derived_genera...\n",
       "6     (generator_id, _out_eia__yearly_fuel_cost_by_g...\n",
       "7           (generator_id, _out_eia__yearly_generators)\n",
       "8     (generator_id, _out_eia__yearly_heat_rate_by_g...\n",
       "9     (generator_id, core_eia860__assn_boiler_genera...\n",
       "10          (generator_id, core_eia860__scd_generators)\n",
       "11           (generator_id, core_eia860__scd_ownership)\n",
       "12    (generator_id, core_eia860m__changelog_generat...\n",
       "13      (generator_id, core_eia923__monthly_generation)\n",
       "14          (generator_id, core_eia__entity_generators)\n",
       "15           (generator_id, core_epa__assn_eia_epacamd)\n",
       "16    (generator_id, core_epa__assn_eia_epacamd_subp...\n",
       "17         (generator_id, out_eia860__yearly_ownership)\n",
       "18               (generator_id, out_eia923__generation)\n",
       "19       (generator_id, out_eia923__monthly_generation)\n",
       "20    (generator_id, out_eia923__monthly_generation_...\n",
       "21    (generator_id, out_eia923__monthly_generation_...\n",
       "22        (generator_id, out_eia923__yearly_generation)\n",
       "23    (generator_id, out_eia923__yearly_generation_f...\n",
       "24    (generator_id, out_eia923__yearly_generation_f...\n",
       "25    (generator_id, out_eia923__yearly_generation_f...\n",
       "26          (generator_id, out_eia__monthly_generators)\n",
       "27           (generator_id, out_eia__yearly_generators)\n",
       "28    (generator_id, out_eia__yearly_generators_by_o...\n",
       "29          (generator_id, out_eia__yearly_plant_parts)\n",
       "30    (generator_id, out_pudl__yearly_assn_eia_ferc1...\n",
       "dtype: object"
      ]
     },
     "execution_count": 30,
     "metadata": {},
     "output_type": "execute_result"
    }
   ],
   "source": [
    "\n",
    "\n",
    "print(\"Exact gen matches:\")\n",
    "pd.Series(exact_matches)"
   ]
  },
  {
   "cell_type": "code",
   "execution_count": 22,
   "metadata": {},
   "outputs": [
    {
     "name": "stdout",
     "output_type": "stream",
     "text": [
      "Similar gen matches:\n"
     ]
    },
    {
     "data": {
      "text/plain": [
       "0      (plant_name, _out_eia__monthly_fuel_cost_by_ge...\n",
       "1      (plant_name, _out_eia__plants_utilities, plant...\n",
       "2      (plant_name, _out_eia__yearly_fuel_cost_by_gen...\n",
       "3      (plant_name, _out_eia__yearly_generators, plan...\n",
       "4      (plant_name, _out_ferc1__yearly_plants_utiliti...\n",
       "                             ...                        \n",
       "134    (prime_mover, out_eia__yearly_plant_parts, pri...\n",
       "135    (prime_mover, out_pudl__yearly_assn_eia_ferc1_...\n",
       "136    (operating_year, out_eia__yearly_generators_by...\n",
       "137    (operating_year, out_eia__yearly_plant_parts, ...\n",
       "138    (operating_year, out_pudl__yearly_assn_eia_fer...\n",
       "Length: 139, dtype: object"
      ]
     },
     "execution_count": 22,
     "metadata": {},
     "output_type": "execute_result"
    }
   ],
   "source": [
    "print(\"Similar gen matches:\")\n",
    "pd.Series(similar_matches)"
   ]
  },
  {
   "cell_type": "code",
   "execution_count": 31,
   "metadata": {},
   "outputs": [
    {
     "name": "stdout",
     "output_type": "stream",
     "text": [
      "Not found gen columns:\n",
      "plant_code\n",
      "nameplate_energy_capacity_mwh\n",
      "maximum_charge_rate_mw\n",
      "maximum_discharge_rate_mw\n",
      "storage_technology_1\n"
     ]
    }
   ],
   "source": [
    "print(\"Not found gen columns:\")\n",
    "for col in not_found:\n",
    "    print(col)"
   ]
  },
  {
   "cell_type": "code",
   "execution_count": 25,
   "metadata": {},
   "outputs": [],
   "source": [
    "for table, column in table_cols:\n",
    "    if 'storage' in table and 'eia860' in table:\n",
    "        print(table)"
   ]
  },
  {
   "cell_type": "code",
   "execution_count": 26,
   "metadata": {},
   "outputs": [],
   "source": [
    "storage_cols = [\n",
    "    'plant_code',\n",
    "    'generator_id',\n",
    "    'nameplate_energy_capacity_mwh',\n",
    "    'maximum_charge_rate_mw',\n",
    "    'maximum_discharge_rate_mw',\n",
    "    'storage_technology_1']\n",
    "\n",
    "exact_matches = []\n",
    "similar_matches = []\n",
    "not_found = []\n",
    "\n",
    "for col in storage_cols:\n",
    "    found_col = False\n",
    "    for table, column in table_cols:\n",
    "        if col == column:\n",
    "            exact_matches.append((col, table))\n",
    "            found_col = True\n",
    "        elif column and col not in exact_matches and col in column:\n",
    "            similar_matches.append((col, table, column))\n",
    "            found_col = True\n",
    "    if not found_col:\n",
    "        not_found.append(col)"
   ]
  },
  {
   "cell_type": "code",
   "execution_count": 28,
   "metadata": {},
   "outputs": [
    {
     "name": "stdout",
     "output_type": "stream",
     "text": [
      "\n",
      "Not found storage:\n",
      "plant_code\n",
      "nameplate_energy_capacity_mwh\n",
      "maximum_charge_rate_mw\n",
      "maximum_discharge_rate_mw\n",
      "storage_technology_1\n"
     ]
    }
   ],
   "source": [
    "\n",
    "print(\"\\nNot found storage:\")\n",
    "for col in not_found:\n",
    "    print(col)"
   ]
  }
 ],
 "metadata": {
  "kernelspec": {
   "display_name": "pypsa-usa",
   "language": "python",
   "name": "python3"
  },
  "language_info": {
   "codemirror_mode": {
    "name": "ipython",
    "version": 3
   },
   "file_extension": ".py",
   "mimetype": "text/x-python",
   "name": "python",
   "nbconvert_exporter": "python",
   "pygments_lexer": "ipython3",
   "version": "3.11.9"
  }
 },
 "nbformat": 4,
 "nbformat_minor": 2
}
