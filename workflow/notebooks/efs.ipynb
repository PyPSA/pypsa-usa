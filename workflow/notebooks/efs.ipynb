{
 "cells": [
  {
   "cell_type": "code",
   "execution_count": null,
   "metadata": {},
   "outputs": [],
   "source": [
    "import pandas as pd\n",
    "import xarray as xr\n",
    "import matplotlib.pyplot as plt\n",
    "import math"
   ]
  },
  {
   "cell_type": "code",
   "execution_count": null,
   "metadata": {},
   "outputs": [],
   "source": [
    "def read_efs(csv):\n",
    "    return pd.read_csv(csv, engine=\"pyarrow\")\n",
    "\n",
    "\n",
    "def filter_efs(df, sector=None, state=None):\n",
    "    if sector:\n",
    "        if isinstance(sector, str):\n",
    "            sector = [sector]\n",
    "        df_temp = df[df.Sector.isin(sector)]\n",
    "    else:\n",
    "        df_temp = df.copy()\n",
    "\n",
    "    if state:\n",
    "        if isinstance(state, str):\n",
    "            state = [state]\n",
    "        df_filtered = df_temp[df_temp.State.isin(state)]\n",
    "    else:\n",
    "        df_filtered = df_temp.copy()\n",
    "\n",
    "    return df_filtered\n",
    "\n",
    "\n",
    "def create_datetime(row):\n",
    "    start_of_year = pd.Timestamp(year=int(row[\"Year\"]), month=1, day=1)\n",
    "    delta_hours = pd.Timedelta(hours=int(row[\"LocalHourID\"]) - 1)  # -1 to start at 0\n",
    "    return start_of_year + delta_hours\n",
    "\n",
    "\n",
    "def resample_efs(df, resample=\"d\", strategy=\"sum\"):\n",
    "    df = df.reset_index(drop=True)\n",
    "    df[\"date\"] = df.apply(create_datetime, axis=1)\n",
    "    df = df.set_index(\"date\").drop(columns=[\"Year\", \"LocalHourID\"])\n",
    "    if strategy == \"mean\":\n",
    "        return df.resample(resample).mean()\n",
    "    else:\n",
    "        return df.resample(resample).sum()\n",
    "\n",
    "\n",
    "def check_duplicates(df):\n",
    "    \"\"\"Sometimes odd formatting for resampling\"\"\"\n",
    "\n",
    "    duplicates = df[df.duplicated(subset=[\"time_of_year\", \"year\"])]\n",
    "\n",
    "    if duplicates.empty:\n",
    "        return df\n",
    "\n",
    "    else:\n",
    "        print(f\"Dropping following duplicated data: \\n {duplicates}\")\n",
    "        # return df.loc[duplicates.index]\n",
    "        return df[~df.duplicated(subset=[\"time_of_year\", \"year\"], keep=\"last\")]\n",
    "\n",
    "\n",
    "def plot_efs(df, ax, resample=\"d\", years=None, title=None):\n",
    "    if years:\n",
    "        assert all(x in [2018, 2020, 2024, 2030, 2040, 2050] for x in years)\n",
    "    else:\n",
    "        years = [2018, 2020, 2024, 2030, 2040, 2050]\n",
    "\n",
    "    temp = df[df.index.year.isin(years)].copy()\n",
    "\n",
    "    if resample == \"d\":\n",
    "        temp[\"time_of_year\"] = temp.index.dayofyear\n",
    "        x_label = \"Day of Year\"\n",
    "    elif resample == \"W\":\n",
    "        temp[\"time_of_year\"] = temp.index.isocalendar().week\n",
    "        x_label = \"Week of Year\"\n",
    "    elif resample == \"ME\":\n",
    "        temp[\"time_of_year\"] = temp.index.month\n",
    "        x_label = \"Month of Year\"\n",
    "    elif resample == \"YE\":\n",
    "        temp[\"time_of_year\"] = temp.index.year\n",
    "        x_label = \"Year\"\n",
    "    else:\n",
    "        temp[\"time_of_year\"] = temp.index.hour\n",
    "        x_label = \"Hour of Year\"\n",
    "    temp[\"year\"] = temp.index.year\n",
    "\n",
    "    # print(temp)\n",
    "\n",
    "    temp = check_duplicates(temp)\n",
    "\n",
    "    if resample != \"YE\":\n",
    "\n",
    "        temp = temp.pivot(index=\"time_of_year\", columns=\"year\", values=\"LoadMW\")\n",
    "\n",
    "        temp.plot(ax=ax)\n",
    "\n",
    "    else:\n",
    "\n",
    "        temp.plot.bar(ax=ax, x=\"time_of_year\", y=\"LoadMW\")\n",
    "\n",
    "    ax.set_xlabel(x_label)\n",
    "    ax.set_ylabel(\"Load (MW)\")\n",
    "\n",
    "    if title:\n",
    "        ax.set_title(title)\n",
    "\n",
    "\n",
    "def filter_and_plot(df, plot_by_subsector=False, **kwargs):\n",
    "    \"\"\"Main function to interface with\"\"\"\n",
    "\n",
    "    sector = kwargs.get(\"sector\", None)\n",
    "    state = kwargs.get(\"state\", None)\n",
    "    resample = kwargs.get(\"resample\", \"d\")\n",
    "    years = kwargs.get(\"years\", [2018, 2020, 2024, 2030, 2040, 2050])\n",
    "    title = kwargs.get(\"title\", None)\n",
    "    figsize = kwargs.get(\"figsize\", (18, 8))\n",
    "\n",
    "    # note, hourly resample will have no effect\n",
    "    assert resample in [\"h\", \"d\", \"W\", \"ME\", \"YE\"]\n",
    "\n",
    "    df = filter_efs(df, sector=sector, state=state)\n",
    "\n",
    "    if plot_by_subsector:\n",
    "        nsubsectors = len(df.Subsector.unique())\n",
    "        fig, axs = plt.subplots(\n",
    "            nrows=math.ceil(nsubsectors / 2), ncols=2, figsize=figsize\n",
    "        )\n",
    "\n",
    "        row, col = 0, 0\n",
    "        for i, subsector in enumerate(df.Subsector.unique()):\n",
    "            temp = df[df.Subsector == subsector]\n",
    "            temp = temp[[\"Year\", \"LocalHourID\", \"LoadMW\"]]\n",
    "            resampled = resample_efs(temp, resample=resample)\n",
    "            plot_efs(resampled, axs[row, col], resample, years, subsector)\n",
    "            row = row if col % 2 == 0 else row + 1\n",
    "            col = 0 if col % 2 == 1 else col + 1\n",
    "\n",
    "    else:\n",
    "        fig, ax = plt.subplots(nrows=1, ncols=1, figsize=figsize)\n",
    "        resampled = resample_efs(\n",
    "            df[[\"Year\", \"LocalHourID\", \"LoadMW\"]], resample=resample\n",
    "        )\n",
    "        plot_efs(resampled, ax, resample, years)\n",
    "\n",
    "    if title:\n",
    "        fig.suptitle(title, fontsize=24)"
   ]
  },
  {
   "cell_type": "markdown",
   "metadata": {},
   "source": [
    "# High Rapid"
   ]
  },
  {
   "cell_type": "code",
   "execution_count": null,
   "metadata": {},
   "outputs": [],
   "source": [
    "csv = \"EFSLoadProfile_High_Rapid.csv\"\n",
    "df = read_efs(csv)"
   ]
  },
  {
   "cell_type": "code",
   "execution_count": null,
   "metadata": {},
   "outputs": [],
   "source": [
    "FIGSIZE = (18, 10)"
   ]
  },
  {
   "cell_type": "markdown",
   "metadata": {},
   "source": [
    "## California"
   ]
  },
  {
   "cell_type": "code",
   "execution_count": null,
   "metadata": {},
   "outputs": [],
   "source": [
    "filter_and_plot(\n",
    "    df,\n",
    "    sector=\"Residential\",\n",
    "    state=\"CA\",\n",
    "    resample=\"W\",\n",
    "    figsize=FIGSIZE,\n",
    "    plot_by_subsector=True,\n",
    "    title=\"Residential California\",\n",
    ")"
   ]
  },
  {
   "cell_type": "code",
   "execution_count": null,
   "metadata": {},
   "outputs": [],
   "source": [
    "filter_and_plot(\n",
    "    df,\n",
    "    sector=\"Commercial\",\n",
    "    state=\"CA\",\n",
    "    resample=\"W\",\n",
    "    figsize=FIGSIZE,\n",
    "    plot_by_subsector=True,\n",
    "    title=\"Commercial California\",\n",
    ")"
   ]
  },
  {
   "cell_type": "code",
   "execution_count": null,
   "metadata": {},
   "outputs": [],
   "source": [
    "filter_and_plot(\n",
    "    df,\n",
    "    sector=\"Industrial\",\n",
    "    state=\"CA\",\n",
    "    resample=\"W\",\n",
    "    figsize=FIGSIZE,\n",
    "    plot_by_subsector=True,\n",
    "    title=\"Industrial California\",\n",
    ")"
   ]
  },
  {
   "cell_type": "code",
   "execution_count": null,
   "metadata": {},
   "outputs": [],
   "source": [
    "filter_and_plot(\n",
    "    df,\n",
    "    sector=\"Transportation\",\n",
    "    state=\"CA\",\n",
    "    resample=\"W\",\n",
    "    figsize=FIGSIZE,\n",
    "    plot_by_subsector=True,\n",
    "    title=\"Transportation California\",\n",
    ")"
   ]
  },
  {
   "cell_type": "markdown",
   "metadata": {},
   "source": [
    "## Texas"
   ]
  },
  {
   "cell_type": "code",
   "execution_count": null,
   "metadata": {},
   "outputs": [],
   "source": [
    "filter_and_plot(\n",
    "    df,\n",
    "    sector=\"Residential\",\n",
    "    state=\"TX\",\n",
    "    resample=\"W\",\n",
    "    figsize=FIGSIZE,\n",
    "    plot_by_subsector=True,\n",
    "    title=\"Residential Texas\",\n",
    ")"
   ]
  },
  {
   "cell_type": "code",
   "execution_count": null,
   "metadata": {},
   "outputs": [],
   "source": [
    "filter_and_plot(\n",
    "    df,\n",
    "    sector=\"Commercial\",\n",
    "    state=\"TX\",\n",
    "    resample=\"W\",\n",
    "    figsize=FIGSIZE,\n",
    "    plot_by_subsector=True,\n",
    "    title=\"Commercial Texas\",\n",
    ")"
   ]
  },
  {
   "cell_type": "code",
   "execution_count": null,
   "metadata": {},
   "outputs": [],
   "source": [
    "filter_and_plot(\n",
    "    df,\n",
    "    sector=\"Industrial\",\n",
    "    state=\"TX\",\n",
    "    resample=\"W\",\n",
    "    figsize=FIGSIZE,\n",
    "    plot_by_subsector=True,\n",
    "    title=\"Industrial Texas\",\n",
    ")"
   ]
  },
  {
   "cell_type": "code",
   "execution_count": null,
   "metadata": {},
   "outputs": [],
   "source": [
    "filter_and_plot(\n",
    "    df,\n",
    "    sector=\"Transportation\",\n",
    "    state=\"TX\",\n",
    "    resample=\"W\",\n",
    "    figsize=FIGSIZE,\n",
    "    plot_by_subsector=True,\n",
    "    title=\"Transportation Texas\",\n",
    ")"
   ]
  },
  {
   "cell_type": "markdown",
   "metadata": {},
   "source": [
    "## New England"
   ]
  },
  {
   "cell_type": "code",
   "execution_count": null,
   "metadata": {},
   "outputs": [],
   "source": [
    "filter_and_plot(\n",
    "    df,\n",
    "    sector=\"Residential\",\n",
    "    state=[\"CT\", \"ME\", \"MA\", \"NH\", \"RI\", \"VT\"],\n",
    "    resample=\"W\",\n",
    "    figsize=FIGSIZE,\n",
    "    plot_by_subsector=True,\n",
    "    title=\"Residential New England\",\n",
    ")"
   ]
  },
  {
   "cell_type": "code",
   "execution_count": null,
   "metadata": {},
   "outputs": [],
   "source": [
    "filter_and_plot(\n",
    "    df,\n",
    "    sector=\"Commercial\",\n",
    "    state=[\"CT\", \"ME\", \"MA\", \"NH\", \"RI\", \"VT\"],\n",
    "    resample=\"W\",\n",
    "    figsize=FIGSIZE,\n",
    "    plot_by_subsector=True,\n",
    "    title=\"Commercial New England\",\n",
    ")"
   ]
  },
  {
   "cell_type": "code",
   "execution_count": null,
   "metadata": {},
   "outputs": [],
   "source": [
    "filter_and_plot(\n",
    "    df,\n",
    "    sector=\"Industrial\",\n",
    "    state=[\"CT\", \"ME\", \"MA\", \"NH\", \"RI\", \"VT\"],\n",
    "    resample=\"W\",\n",
    "    figsize=FIGSIZE,\n",
    "    plot_by_subsector=True,\n",
    "    title=\"Industrial New England\",\n",
    ")"
   ]
  },
  {
   "cell_type": "code",
   "execution_count": null,
   "metadata": {},
   "outputs": [],
   "source": [
    "filter_and_plot(\n",
    "    df,\n",
    "    sector=\"Transportation\",\n",
    "    state=[\"CT\", \"ME\", \"MA\", \"NH\", \"RI\", \"VT\"],\n",
    "    resample=\"W\",\n",
    "    figsize=FIGSIZE,\n",
    "    plot_by_subsector=True,\n",
    "    title=\"Transportation New England\",\n",
    ")"
   ]
  }
 ],
 "metadata": {
  "kernelspec": {
   "display_name": "pypsa-usa",
   "language": "python",
   "name": "python3"
  },
  "language_info": {
   "codemirror_mode": {
    "name": "ipython",
    "version": 3
   },
   "file_extension": ".py",
   "mimetype": "text/x-python",
   "name": "python",
   "nbconvert_exporter": "python",
   "pygments_lexer": "ipython3",
   "version": "3.11.8"
  }
 },
 "nbformat": 4,
 "nbformat_minor": 2
}
