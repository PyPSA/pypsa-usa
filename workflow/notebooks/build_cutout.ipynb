{
 "cells": [
  {
   "cell_type": "markdown",
   "metadata": {},
   "source": [
    "This notebook produces graphics showing the geographical extent of the default cutouts"
   ]
  },
  {
   "cell_type": "code",
   "execution_count": null,
   "metadata": {},
   "outputs": [],
   "source": [
    "import cartopy.io.shapereader as shpreader\n",
    "import geopandas as gpd\n",
    "import matplotlib.pyplot as plt\n",
    "import atlite\n",
    "import xarray as xr\n",
    "import cartopy.crs as ccrs\n",
    "from cartopy.crs import PlateCarree as plate\n",
    "import cartopy.io.shapereader as shpreader"
   ]
  },
  {
   "cell_type": "code",
   "execution_count": null,
   "metadata": {},
   "outputs": [],
   "source": [
    "STATES_TO_REMOVE = [\n",
    "    \"Hawaii\",\n",
    "    \"Alaska\",\n",
    "    \"Commonwealth of the Northern Mariana Islands\",\n",
    "    \"United States Virgin Islands\",\n",
    "    \"Guam\",\n",
    "    \"Puerto Rico\",\n",
    "    \"American Samoa\",\n",
    "]"
   ]
  },
  {
   "cell_type": "code",
   "execution_count": null,
   "metadata": {},
   "outputs": [],
   "source": [
    "shpfilename = shpreader.natural_earth(\n",
    "    resolution=\"10m\", category=\"cultural\", name=\"admin_1_states_provinces\"\n",
    ")\n",
    "reader = shpreader.Reader(shpfilename)\n",
    "gdf_states = reader.records()\n",
    "data = []\n",
    "for r in gdf_states:\n",
    "    attr = r.attributes\n",
    "    if (attr[\"iso_a2\"] in [\"US\"]) and (attr[\"name\"] not in STATES_TO_REMOVE):\n",
    "        data.append(\n",
    "            [\n",
    "                attr[\"name\"],\n",
    "                attr[\"iso_a2\"],\n",
    "                attr[\"latitude\"],\n",
    "                attr[\"longitude\"],\n",
    "                r.geometry,\n",
    "            ]\n",
    "        )\n",
    "gdf_states = gpd.GeoDataFrame(\n",
    "    data, columns=[\"name\", \"country\", \"x\", \"y\", \"geometry\"]\n",
    ").set_crs(4326)"
   ]
  },
  {
   "cell_type": "code",
   "execution_count": null,
   "metadata": {},
   "outputs": [],
   "source": [
    "cutout_western = \"./../cutouts/western_era5_2019.nc\"\n",
    "cutout_eastern = \"./../cutouts/eastern_era5_2019.nc\"\n",
    "cutout_texas = \"./../cutouts/texas_era5_2019.nc\"\n",
    "cutout_usa = \"./../cutouts/usa_era5_2019.nc\""
   ]
  },
  {
   "cell_type": "code",
   "execution_count": null,
   "metadata": {},
   "outputs": [],
   "source": [
    "def plot_cutout(ax, cutout, states, title):\n",
    "    cells = cutout.grid\n",
    "    country_bound = gpd.GeoSeries(cells.unary_union)\n",
    "    plot_grid_dict = dict(\n",
    "        alpha=0.1,\n",
    "        edgecolor=\"k\",\n",
    "        zorder=4,\n",
    "        aspect=\"equal\",\n",
    "        facecolor=\"None\",\n",
    "        transform=plate(),\n",
    "    )\n",
    "    states.plot(ax=ax, zorder=1, transform=plate())\n",
    "    cells.plot(ax=ax, **plot_grid_dict)\n",
    "    # country_bound.plot(ax=ax, edgecolor=\"orange\", facecolor=\"None\", transform=plate())\n",
    "    ax.set_title(title, fontsize=16)\n",
    "    ax.axis(\"off\")\n",
    "    # cutout.grid.plot(edgecolor=\"white\",linewidth=1,alpha=0.5, ax=ax)"
   ]
  },
  {
   "cell_type": "code",
   "execution_count": null,
   "metadata": {},
   "outputs": [],
   "source": [
    "projection = ccrs.Orthographic(-75, 25)\n",
    "fig, axs = plt.subplots(\n",
    "    nrows=2, ncols=2, subplot_kw={\"projection\": projection}, figsize=(12, 7)\n",
    ")\n",
    "plot_cutout(\n",
    "    ax=axs[0, 0],\n",
    "    cutout=atlite.Cutout(cutout_western),\n",
    "    states=gdf_states,\n",
    "    title=\"Western Interconnect\",\n",
    ")\n",
    "plot_cutout(\n",
    "    ax=axs[0, 1],\n",
    "    cutout=atlite.Cutout(cutout_eastern),\n",
    "    states=gdf_states,\n",
    "    title=\"Eastern Interconnect\",\n",
    ")\n",
    "plot_cutout(\n",
    "    ax=axs[1, 0],\n",
    "    cutout=atlite.Cutout(cutout_texas),\n",
    "    states=gdf_states,\n",
    "    title=\"Texas Interconnect\",\n",
    ")\n",
    "plot_cutout(\n",
    "    ax=axs[1, 1],\n",
    "    cutout=atlite.Cutout(cutout_usa),\n",
    "    states=gdf_states,\n",
    "    title=\"USA Interconnect\",\n",
    ")"
   ]
  },
  {
   "cell_type": "code",
   "execution_count": null,
   "metadata": {},
   "outputs": [],
   "source": [
    "onshore_shapes = gpd.read_file(\"./../resources/western/onshore_shapes.geojson\")\n",
    "offshore_shapes = gpd.read_file(\"./../resources/western/offshore_shapes.geojson\")\n",
    "regions_onshore = gpd.read_file(\"./../resources/western/regions_onshore.geojson\")\n",
    "regions_offshore = gpd.read_file(\"./../resources/western/regions_offshore.geojson\")"
   ]
  },
  {
   "cell_type": "code",
   "execution_count": null,
   "metadata": {},
   "outputs": [],
   "source": [
    "regions_onshore[regions_onshore.geometry == None]"
   ]
  },
  {
   "cell_type": "code",
   "execution_count": null,
   "metadata": {},
   "outputs": [],
   "source": [
    "fig, axs = plt.subplots(\n",
    "    nrows=1, ncols=1, subplot_kw={\"projection\": projection}, figsize=(12, 7)\n",
    ")\n",
    "plot_cutout(\n",
    "    ax=axs,\n",
    "    cutout=atlite.Cutout(cutout_western),\n",
    "    states=regions_onshore,\n",
    "    title=\"Western Interconnect\",\n",
    ")"
   ]
  },
  {
   "cell_type": "code",
   "execution_count": null,
   "metadata": {},
   "outputs": [],
   "source": [
    "units_mapper = {\n",
    "    \"height\": \"m\",\n",
    "    \"wnd100m\": \"ms**-1\",\n",
    "    \"wnd_azimuth\": \"m s**-1\",\n",
    "    \"roughness\": \"m\",\n",
    "    \"influx_toa\": \"Wm**-2\",\n",
    "    \"influx_direct\": \"Wm**-2\",\n",
    "    \"influx_diffuse\": \"Wm**-2\",\n",
    "    \"albedo\": \"-\",\n",
    "    \"solar_altitude\": \"rad\",\n",
    "    \"solar_azimuth\": \"rad\",\n",
    "    \"temperature\": \"K\",\n",
    "    \"soil temperature\": \"K\",\n",
    "    \"runoff\": \"m\",\n",
    "}"
   ]
  },
  {
   "cell_type": "code",
   "execution_count": null,
   "metadata": {},
   "outputs": [],
   "source": [
    "cutout = atlite.Cutout(cutout_usa)\n",
    "time_to_plot = \"2019-03-30 23:00:00\"\n",
    "# cutout.data.wnd100m.sel(time=\"2019-03-30 23:00:00\").plot()\n",
    "ax_idx = 0\n",
    "ax_idy = 0\n",
    "fig, axs = plt.subplots(6, 2, figsize=(14, 28))\n",
    "for var in cutout.data.data_vars:\n",
    "    if var == \"albedo\":\n",
    "        continue\n",
    "    if \"time\" in cutout.data[var].coords:\n",
    "        cutout.data[var].sel(time=time_to_plot).plot(\n",
    "            ax=axs[ax_idy, ax_idx], cbar_kwargs={\"label\": units_mapper[var]}\n",
    "        )\n",
    "        axs[ax_idy, ax_idx].set_title(f\"{var} ({time_to_plot})\")\n",
    "    else:\n",
    "        cutout.data[var].plot(\n",
    "            ax=axs[ax_idy, ax_idx], cbar_kwargs={\"label\": units_mapper[var]}\n",
    "        )\n",
    "        axs[ax_idy, ax_idx].set_title(f\"{var}\")\n",
    "\n",
    "    axs[ax_idy, ax_idx].set_ylabel(\"\")\n",
    "    axs[ax_idy, ax_idx].set_xlabel(\"\")\n",
    "\n",
    "    ax_idx = (ax_idx + 1) % 2\n",
    "    if ax_idx == 0:\n",
    "        ax_idy += 1"
   ]
  },
  {
   "cell_type": "code",
   "execution_count": null,
   "metadata": {},
   "outputs": [],
   "source": [
    "cap_factors = cutout.wind(turbine=\"Vestas_V112_3MW\", capacity_factor=True)"
   ]
  },
  {
   "cell_type": "code",
   "execution_count": null,
   "metadata": {},
   "outputs": [],
   "source": [
    "from cartopy.crs import PlateCarree as plate\n",
    "import cartopy.crs as ccrs\n",
    "\n",
    "projection = ccrs.Orthographic(-110, 40)\n",
    "plot_grid_dict = dict(\n",
    "    alpha=0.1,\n",
    "    edgecolor=\"k\",\n",
    "    zorder=4,\n",
    "    aspect=\"equal\",\n",
    "    facecolor=\"None\",\n",
    "    transform=plate(),\n",
    ")\n",
    "fig, ax = plt.subplots(subplot_kw={\"projection\": projection}, figsize=(9, 7))\n",
    "cap_factors.name = \"Capacity Factor\"\n",
    "cap_factors.plot(ax=ax, transform=plate(), alpha=0.8)\n",
    "cells = cutout.grid\n",
    "cells.plot(ax=ax, **plot_grid_dict)\n",
    "plt.title(\"Vestas_V112_3MW Capacity Factor\")\n",
    "fig.tight_layout()"
   ]
  },
  {
   "cell_type": "code",
   "execution_count": null,
   "metadata": {},
   "outputs": [],
   "source": []
  }
 ],
 "metadata": {
  "kernelspec": {
   "display_name": "pypsa-usa",
   "language": "python",
   "name": "python3"
  },
  "language_info": {
   "codemirror_mode": {
    "name": "ipython",
    "version": 3
   },
   "file_extension": ".py",
   "mimetype": "text/x-python",
   "name": "python",
   "nbconvert_exporter": "python",
   "pygments_lexer": "ipython3",
   "version": "3.11.6"
  },
  "orig_nbformat": 4
 },
 "nbformat": 4,
 "nbformat_minor": 2
}
