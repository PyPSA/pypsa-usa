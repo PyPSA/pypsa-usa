{
 "cells": [
  {
   "cell_type": "code",
   "execution_count": null,
   "metadata": {},
   "outputs": [],
   "source": [
    "import matplotlib.pyplot as plt\n",
    "import pandas as pd\n",
    "import pypsa\n",
    "import seaborn as sns\n",
    "from pypsa.statistics import StatisticsAccessor, get_bus_and_carrier"
   ]
  },
  {
   "cell_type": "code",
   "execution_count": null,
   "metadata": {},
   "outputs": [],
   "source": [
    "def get_node_carrier_emissions_timeseries(n: pypsa.Network) -> pd.DataFrame:\n",
    "    \"\"\"Gets timeseries emissions by bus and carrier.\"\"\"\n",
    "    energy = get_primary_energy_use(n)\n",
    "    co2 = n.carriers[[\"nice_name\", \"co2_emissions\"]].reset_index().set_index(\"nice_name\")[[\"co2_emissions\"]].squeeze()\n",
    "    return energy.mul(co2, level=\"carrier\", axis=0)\n",
    "\n",
    "\n",
    "def get_primary_energy_use(n: pypsa.Network) -> pd.DataFrame:\n",
    "    \"\"\"Gets timeseries primary energy use by bus and carrier.\"\"\"\n",
    "    link_energy_use = (\n",
    "        StatisticsAccessor(n)\n",
    "        .withdrawal(\n",
    "            comps=[\"Link\", \"Store\", \"StorageUnit\"],\n",
    "            aggregate_time=False,\n",
    "            groupby=get_bus_and_carrier,\n",
    "        )\n",
    "        .droplevel(\"component\")\n",
    "    )\n",
    "\n",
    "    gen_dispatch = (\n",
    "        StatisticsAccessor(n)\n",
    "        .supply(\n",
    "            aggregate_time=False,\n",
    "            comps=[\"Generator\"],\n",
    "            groupby=pypsa.statistics.get_name_bus_and_carrier,\n",
    "        )\n",
    "        .droplevel(\"component\")\n",
    "    )\n",
    "    gen_eff = n.get_switchable_as_dense(\"Generator\", \"efficiency\")\n",
    "\n",
    "    gen_energy_use = gen_dispatch.T.mul(1 / gen_eff, axis=0, level=\"name\").T.droplevel(\n",
    "        \"name\",\n",
    "    )\n",
    "\n",
    "    return (\n",
    "        pd.concat([gen_energy_use, link_energy_use])\n",
    "        # .reset_index() commenting this out seems to fix issue in multi-horizon indexing\n",
    "        .groupby([\"bus\", \"carrier\"])\n",
    "        .sum()\n",
    "    )\n",
    "\n",
    "\n",
    "def get_node_emissions_timeseries(n: pypsa.Network) -> pd.DataFrame:\n",
    "    \"\"\"Gets timeseries emissions per node.\"\"\"\n",
    "    return (\n",
    "        get_node_carrier_emissions_timeseries(n)\n",
    "        .droplevel(\"carrier\")\n",
    "        # .reset_index() fix for multi-horizon\n",
    "        .groupby(\"bus\")\n",
    "        .sum()\n",
    "        .T\n",
    "    )"
   ]
  },
  {
   "cell_type": "code",
   "execution_count": null,
   "metadata": {},
   "outputs": [],
   "source": [
    "# Base folders\n",
    "pudl_folder = \"validation_usa_pudl/figures/s300_cluster_133m/lv1.0_Ep_E/\"\n",
    "wholesale_folder = \"validation_usa_wholesale/figures/s300_cluster_133m/\""
   ]
  },
  {
   "cell_type": "markdown",
   "metadata": {},
   "source": [
    "# State Emissions Deviation Plot"
   ]
  },
  {
   "cell_type": "code",
   "execution_count": null,
   "metadata": {},
   "outputs": [],
   "source": [
    "# df_em = pd.read_csv(\"validation_usa_pudl/figures/s250_cluster_133m/lv1.0_Ep_E/val_bar_state_emissions.csv\")\n",
    "# df_em_ws = pd.read_csv(\"validation_usa_wholesale/figures/s150_cluster_133m/lv1.0_Ep_E/val_bar_state_emissions.csv\")\n",
    "df_em = pd.read_csv(f\"{pudl_folder}val_bar_state_emissions.csv\")\n",
    "df_em_ws = pd.read_csv(f\"{wholesale_folder}val_bar_state_emissions.csv\")\n",
    "df_em_ws = df_em_ws.loc[df_em_ws[\"variable\"] == \"Optimized\"]\n",
    "df_em_ws.variable = \"Wholesale\"\n",
    "df_em.loc[df_em[\"variable\"] == \"Optimized\", \"variable\"] = \"Fuel Receipts\"\n",
    "df_em = pd.concat([df_em, df_em_ws])\n",
    "df_em"
   ]
  },
  {
   "cell_type": "code",
   "execution_count": null,
   "metadata": {},
   "outputs": [],
   "source": [
    "df_sum = df_em.groupby(\"variable\", as_index=False)[\"value\"].sum()\n",
    "\n",
    "# Define a color palette based on the unique values of \"variable\"\n",
    "unique_variables = df_em[\"variable\"].unique()\n",
    "palette = sns.color_palette(\"muted\", len(unique_variables))\n",
    "color_mapping = dict(zip(unique_variables, palette))\n",
    "\n",
    "# Create a figure with two subplots and customized height ratio\n",
    "fig, (ax_sum, ax) = plt.subplots(2, 1, figsize=(8, 10), gridspec_kw={\"height_ratios\": [0.15, 3]}, sharex=False)\n",
    "\n",
    "# Plot the summed data in the upper subplot with smaller bar width\n",
    "sns.barplot(\n",
    "    data=df_sum,\n",
    "    x=\"value\",\n",
    "    y=\"variable\",\n",
    "    orient=\"horizontal\",\n",
    "    ax=ax_sum,\n",
    "    palette=color_mapping,\n",
    ")\n",
    "# Customize the look of the top panel\n",
    "ax_sum.set_ylabel(\"\")  # Remove y-axis label for a cleaner look\n",
    "ax_sum.set_xlabel(\"\")  # Remove x-axis label to unify flow\n",
    "ax_sum.set_title(\"U.S. Total Emissions\", fontsize=14)  # Add a title to the top panel\n",
    "ax_sum.set_xlim(0, df_em[\"value\"].sum() * 1.1)  # Add padding for visual consistency\n",
    "ax_sum.tick_params(axis=\"y\", labelsize=10)  # Smaller y-axis labels for a compact look\n",
    "# set y-axis label font size\n",
    "\n",
    "# Plot the original state-level data in the lower subplot with matching colors\n",
    "sns.barplot(\n",
    "    data=df_em,\n",
    "    y=\"state\",\n",
    "    x=\"value\",\n",
    "    hue=\"variable\",\n",
    "    orient=\"horizontal\",\n",
    "    ax=ax,\n",
    "    palette=color_mapping,\n",
    ")\n",
    "ax.set_ylabel(\"\")  # Remove y-axis label for consistency\n",
    "# ax.set_title(\"State Emissions\")  # Add a title to the top panel\n",
    "ax.legend(title=\"\")  # Place the legend outside the plot\n",
    "ax.tick_params(axis=\"y\", labelsize=10)  # Smaller y-axis labels for a compact look\n",
    "\n",
    "\n",
    "# Add a single title above both plots\n",
    "fig.suptitle(\"Simulated CO2 Emissions Comparison with Historical Observation\", fontsize=16)\n",
    "\n",
    "# Set the x-axis label on the bottom subplot only\n",
    "ax.set_xlabel(\"CO2 Emissions [MMtCO2]\", fontsize=14)\n",
    "\n",
    "# Use a single legend placed outside the plots, with colors matching the bar plots\n",
    "# handles, labels = ax.get_legend_handles_labels()\n",
    "# fig.legend(handles, labels, loc=\"lower center\", ncol=len(labels), title=\"\", bbox_to_anchor=(0.5, -0.02))\n",
    "\n",
    "# Adjust layout to fit everything neatly\n",
    "plt.tight_layout(rect=[0, 0, 1, 1])\n",
    "plt.show()"
   ]
  },
  {
   "cell_type": "markdown",
   "metadata": {},
   "source": [
    "# Statistics for Paper Text"
   ]
  },
  {
   "cell_type": "code",
   "execution_count": null,
   "metadata": {},
   "outputs": [],
   "source": [
    "df_em_ = df_em.set_index(\"state\")\n",
    "wholesale = df_em_.loc[df_em_[\"variable\"] == \"Wholesale\", \"value\"]\n",
    "pudl = df_em_.loc[df_em_[\"variable\"] == \"Fuel Receipts\", \"value\"]\n",
    "historical = df_em_.loc[df_em_[\"variable\"] == \"Historical\", \"value\"]\n",
    "\n",
    "ws_error = wholesale - historical\n",
    "pudl_error = pudl - historical\n",
    "\n",
    "ws_error_pct = (ws_error / historical) * 100\n",
    "pudl_error_pct = (pudl_error / historical) * 100"
   ]
  },
  {
   "cell_type": "code",
   "execution_count": null,
   "metadata": {},
   "outputs": [],
   "source": [
    "print(\"PUDL Stats: \", pudl_error.abs().describe())\n",
    "print(\"WS stats: \", ws_error.abs().describe())"
   ]
  },
  {
   "cell_type": "code",
   "execution_count": null,
   "metadata": {},
   "outputs": [],
   "source": [
    "plt.boxplot([ws_error_pct, pudl_error_pct], labels=[\"Wholesale\", \"PUDL\"])\n",
    "plt.ylabel(\"Percentage Error\")\n",
    "plt.title(\"Percentage Error of CO2 Emissions\")\n",
    "plt.ylim(-100, 100)\n",
    "# log scale"
   ]
  },
  {
   "cell_type": "code",
   "execution_count": null,
   "metadata": {},
   "outputs": [],
   "source": [
    "print(\"PUDL Stats: \", pudl_error_pct.abs().describe())\n",
    "print(\"WS stats: \", ws_error_pct.abs().describe())"
   ]
  },
  {
   "cell_type": "code",
   "execution_count": null,
   "metadata": {},
   "outputs": [],
   "source": [
    "print(\"PUDL Stats: \", pudl_error.abs().describe())\n",
    "print(\"WS stats: \", ws_error.abs().describe())"
   ]
  },
  {
   "cell_type": "markdown",
   "metadata": {},
   "source": [
    "## State Generation Deviation Table and Plot"
   ]
  },
  {
   "cell_type": "code",
   "execution_count": null,
   "metadata": {},
   "outputs": [],
   "source": [
    "n = pypsa.Network(\n",
    "    \"/Users/kamrantehranchi/Local_Documents/pypsa-usa/workflow/notebooks/PaperFigures/validation_usa_wholesale/networks/elec_s150_c133m_ec_lv1.0_Ep_E_operations.nc\"\n",
    ")"
   ]
  },
  {
   "cell_type": "code",
   "execution_count": null,
   "metadata": {},
   "outputs": [],
   "source": [
    "df = pd.read_csv(f\"{wholesale_folder}val_state_generation_deviation.csv\", index_col=0)"
   ]
  },
  {
   "cell_type": "code",
   "execution_count": null,
   "metadata": {},
   "outputs": [],
   "source": [
    "# Assuming `df` and `n.carriers.color` are already defined\n",
    "# Filter and prepare data\n",
    "historical_gen = df.filter(regex=\"_historical$\")\n",
    "historical_gen.columns = historical_gen.columns.str.replace(\"_historical\", \"\")\n",
    "\n",
    "optimized = df.filter(regex=\"_optimized$\")\n",
    "optimized.columns = optimized.columns.str.replace(\"_optimized\", \"\")\n",
    "\n",
    "# Calculate production deviation at the state level\n",
    "diff_total = (optimized - historical_gen).fillna(0).T.div(historical_gen.sum(axis=1)).mul(1e2).round(1).T\n",
    "\n",
    "# Calculate U.S. total deviation by summing across all states for each carrier\n",
    "us_total_historical = historical_gen.sum()\n",
    "us_total_optimized = optimized.sum()\n",
    "us_diff_total = ((us_total_optimized - us_total_historical) / us_total_historical.sum()).mul(1e2).round(1)\n",
    "\n",
    "# Convert `us_diff_total` to a DataFrame with a single row\n",
    "us_diff_total_df = pd.DataFrame([us_diff_total], index=[\"U.S. Total\"])\n",
    "\n",
    "# Map colors for carriers\n",
    "colors = n.carriers.color.to_dict()\n",
    "colors[\"natural gas\"] = colors.pop(\"CCGT\")\n",
    "colors[\"other\"] = colors.pop(\"load\")\n",
    "\n",
    "# Create a figure with two subplots for U.S. total and state-level comparison\n",
    "fig, (ax_us, ax_state) = plt.subplots(2, 1, figsize=(8, 10), gridspec_kw={\"height_ratios\": [0.08, 3]}, sharex=True)\n",
    "\n",
    "# Plot the U.S. total deviation as a stacked horizontal bar in the upper subplot\n",
    "us_diff_total_df.plot(\n",
    "    kind=\"barh\", stacked=True, color=[colors[carrier] for carrier in us_diff_total.index], ax=ax_us, legend=False\n",
    ")\n",
    "ax_us.set_title(\"\", fontsize=12)\n",
    "ax_us.set_xlabel(\"\")  # Remove x-axis label for a unified flow\n",
    "ax_us.set_ylabel(\"\")  # No y-axis label to keep the layout clean\n",
    "ax_us.tick_params(axis=\"y\", labelsize=12)  # Smaller y-axis labels for a compact look\n",
    "ax_us.axvline(0, color=\"black\", lw=0.3, ls=\"--\")\n",
    "\n",
    "# Plot the state-level deviation in the lower subplot with stacked bars\n",
    "diff_total.plot(kind=\"barh\", stacked=True, ax=ax_state, color=colors)\n",
    "ax_state.set_xlabel(\"Production Deviation [% of Total Generation]\", fontsize=14)\n",
    "ax_state.set_ylabel(\"\")\n",
    "ax_state.tick_params(axis=\"y\", labelsize=12)  # Smaller y-axis labels for a compact look\n",
    "ax_state.invert_yaxis()\n",
    "\n",
    "# add vertical line at 0\n",
    "ax_state.axvline(0, color=\"black\", lw=0.3, ls=\"--\")\n",
    "\n",
    "# Add a single title above both plots\n",
    "fig.suptitle(\"Generation Deviation by State and Carrier\", fontsize=16)\n",
    "\n",
    "# Adjust layout to fit everything neatly\n",
    "plt.tight_layout(rect=[0, 0, 1, 1])\n",
    "plt.show()"
   ]
  },
  {
   "cell_type": "markdown",
   "metadata": {},
   "source": [
    "# PUDL fuel cost data "
   ]
  },
  {
   "cell_type": "code",
   "execution_count": null,
   "metadata": {},
   "outputs": [],
   "source": [
    "extendable_links = n.links.loc[n.links.index.str.contains(\"exp\")]\n",
    "extendable_links[\"cost_per_length\"] = extendable_links.capital_cost / extendable_links.length\n",
    "extendable_links.cost_per_length.plot(kind=\"hist\", bins=100)\n",
    "plt.xlabel(\"Capital Cost [USD/MW-mi-yr]\")\n",
    "plt.ylabel(\"Frequency\")\n",
    "plt.title(\"Histogram of Transmission Expansion Capital Costs\")"
   ]
  },
  {
   "cell_type": "code",
   "execution_count": null,
   "metadata": {},
   "outputs": [],
   "source": [
    "extendable_links"
   ]
  },
  {
   "cell_type": "code",
   "execution_count": null,
   "metadata": {},
   "outputs": [],
   "source": [
    "ppl = pd.read_csv(\"/Users/kamrantehranchi/Local_Documents/pypsa-usa/workflow/resources/ca_reeds/powerplants.csv\")\n",
    "ppl.set_index(\"generator_name\", inplace=True)\n",
    "carriers = [\"coal\", \"CCGT\", \"OCGT\", \"oil\"]\n",
    "ppl = ppl.loc[ppl[\"carrier\"].isin(carriers)]\n",
    "ppl"
   ]
  },
  {
   "cell_type": "code",
   "execution_count": null,
   "metadata": {},
   "outputs": [],
   "source": [
    "df_pudl_fc = pd.read_csv(\n",
    "    \"/Users/kamrantehranchi/Local_Documents/pypsa-usa/workflow/notebooks/PaperFigures/validation_usa_pudl/pudl_fuel_costs.csv\",\n",
    "    index_col=0,\n",
    ")"
   ]
  },
  {
   "cell_type": "code",
   "execution_count": null,
   "metadata": {},
   "outputs": [],
   "source": [
    "plant_avg = df_pudl_fc.mean()\n",
    "ppl[\"fuel_cost_temp\"] = ppl.index.map(plant_avg)"
   ]
  },
  {
   "cell_type": "code",
   "execution_count": null,
   "metadata": {},
   "outputs": [],
   "source": [
    "ppl_de = ppl.loc[ppl[\"state\"].isin([\"DE\", \"MD\"])]\n",
    "ppl_de[\"mc_diff\"] = ppl_de[\"marginal_cost\"] - ppl_de[\"fuel_cost\"]\n",
    "ppl_de.to_csv(\"ppl_de.csv\")"
   ]
  },
  {
   "cell_type": "code",
   "execution_count": null,
   "metadata": {},
   "outputs": [],
   "source": [
    "sns.displot(ppl, x=\"marginal_cost\", hue=\"carrier\", bins=500)\n",
    "plt.xlim(0, 100)"
   ]
  },
  {
   "cell_type": "code",
   "execution_count": null,
   "metadata": {},
   "outputs": [],
   "source": [
    "sns.boxplot(\n",
    "    ppl, x=\"marginal_cost\", y=\"carrier\", hue=\"nerc_region\", width=0.6, flierprops=dict(marker=\"o\", markersize=3)\n",
    ")\n",
    "plt.title(\"Distributions of Marginal Cost by NERC Region and Fossil Carrier in 2019\")\n",
    "plt.xlabel(\"Marginal Cost [USD/MWh]\")\n",
    "plt.ylabel(\"\")\n",
    "plt.legend(title=\"NERC Region\")\n",
    "plt.xlim(0, 300)"
   ]
  },
  {
   "cell_type": "code",
   "execution_count": null,
   "metadata": {},
   "outputs": [],
   "source": [
    "sns.boxplot(ppl, x=\"efficiency\", y=\"carrier\", hue=\"nerc_region\", width=0.6, flierprops=dict(marker=\"o\", markersize=3))"
   ]
  },
  {
   "cell_type": "code",
   "execution_count": null,
   "metadata": {},
   "outputs": [],
   "source": [
    "df_avg = df_pudl_fc.groupby(ppl.carrier, axis=1).mean()"
   ]
  },
  {
   "cell_type": "code",
   "execution_count": null,
   "metadata": {},
   "outputs": [],
   "source": [
    "df_avg.plot()"
   ]
  },
  {
   "cell_type": "code",
   "execution_count": null,
   "metadata": {},
   "outputs": [],
   "source": []
  }
 ],
 "metadata": {
  "kernelspec": {
   "display_name": "pypsa-usa",
   "language": "python",
   "name": "python3"
  },
  "language_info": {
   "codemirror_mode": {
    "name": "ipython",
    "version": 3
   },
   "file_extension": ".py",
   "mimetype": "text/x-python",
   "name": "python",
   "nbconvert_exporter": "python",
   "pygments_lexer": "ipython3",
   "version": "3.11.9"
  }
 },
 "nbformat": 4,
 "nbformat_minor": 2
}
