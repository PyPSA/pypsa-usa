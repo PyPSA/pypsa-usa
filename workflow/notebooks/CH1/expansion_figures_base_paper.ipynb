{
 "cells": [
  {
   "cell_type": "code",
   "execution_count": null,
   "metadata": {},
   "outputs": [],
   "source": [
    "from pathlib import Path\n",
    "\n",
    "import numpy as np\n",
    "import pandas as pd\n",
    "import pypsa\n",
    "from matplotlib import pyplot as plt"
   ]
  },
  {
   "cell_type": "code",
   "execution_count": null,
   "metadata": {},
   "outputs": [],
   "source": [
    "run_name = \"base_paper_11_8\"\n",
    "network_folder = Path(\n",
    "    f\"/Users/kamrantehranchi/Local_Documents/pypsa-usa/workflow/notebooks/PaperFigures/{run_name}/networks\"\n",
    ")\n",
    "figures_path = Path(\n",
    "    f\"/Users/kamrantehranchi/Local_Documents/pypsa-usa/workflow/notebooks/PaperFigures/{run_name}/figures\"\n",
    ")"
   ]
  },
  {
   "cell_type": "code",
   "execution_count": null,
   "metadata": {},
   "outputs": [],
   "source": [
    "# Load all networks and store them with scenario names as keys\n",
    "networks = {path.stem: pypsa.Network(path) for path in network_folder.iterdir()}\n",
    "\n",
    "# Extract Network.statistics and carriers for each scenario\n",
    "stats = {name: net.statistics() for name, net in networks.items()}\n",
    "carriers_dict = {name: net.carriers for name, net in networks.items()}"
   ]
  },
  {
   "cell_type": "code",
   "execution_count": null,
   "metadata": {},
   "outputs": [],
   "source": [
    "networks"
   ]
  },
  {
   "cell_type": "code",
   "execution_count": null,
   "metadata": {},
   "outputs": [],
   "source": [
    "# Define alias for scenarios in PyPSA-USA paper\n",
    "# alias_dict = {\n",
    "#     'elec_s200_c132m_ec_lv1.0_RPS-REM-2000SEG_E': \"No Expansion\",\n",
    "#     'elec_s200_c132m_ec_lv1.02_RPS-REM-2000SEG_E': \"2% Limit\",\n",
    "#     'elec_s200_c132m_ec_lvopt_RPS-REM-2000SEG_E': \"No Limit\"\n",
    "# }\n",
    "\n",
    "alias_dict = {\n",
    "    \"elec_s300_c133m_ec_lv1.0_REM-4h_E\": \"No Expansion\",\n",
    "    \"elec_s300_c133m_ec_lv1.01_REM-4h_E\": \"1% Limit\",\n",
    "    \"elec_s300_c133m_ec_lv1.05_REM-4h_E\": \"5% Limit\",\n",
    "    \"elec_s300_c133m_ec_lv1.1_REM-4h_E\": \"10% Limit\",\n",
    "    \"elec_s300_c133m_ec_lvopt_REM-4h_E\": \"No Limit\",\n",
    "}\n",
    "\n",
    "# Apply alias names to stats, using the original name if no alias exists\n",
    "stats = {alias_dict.get(name, name): df for name, df in stats.items()}\n",
    "networks = {alias_dict.get(name, name): n for name, n in networks.items()}"
   ]
  },
  {
   "cell_type": "code",
   "execution_count": null,
   "metadata": {},
   "outputs": [],
   "source": [
    "# Reorder stats by a defined new order\n",
    "# new_order = ['No Limit', '2% Limit', 'No Expansion']\n",
    "new_order = [\"No Limit\", \"10% Limit\", \"5% Limit\", \"1% Limit\", \"No Expansion\"]\n",
    "\n",
    "if all(key in stats for key in new_order):\n",
    "    stats = {key: stats[key] for key in new_order}\n",
    "if all(key in networks for key in new_order):\n",
    "    networks = {key: networks[key] for key in new_order}"
   ]
  },
  {
   "cell_type": "code",
   "execution_count": null,
   "metadata": {},
   "outputs": [],
   "source": [
    "carriers_dict"
   ]
  },
  {
   "cell_type": "code",
   "execution_count": null,
   "metadata": {},
   "outputs": [],
   "source": [
    "stats[\"No Limit\"][\"Capital Expenditure\"].sum().sum()"
   ]
  },
  {
   "cell_type": "code",
   "execution_count": null,
   "metadata": {},
   "outputs": [],
   "source": [
    "carriers = carriers_dict[\"elec_s300_c133m_ec_lvopt_REM-4h_E\"].copy()\n",
    "carriers[\"legend_name\"] = carriers.nice_name\n",
    "carriers.loc[\"DC\", \"legend_name\"] = \"Transmission\"\n",
    "carriers.loc[\"DC\", \"color\"] = \"#cf1dab\"\n",
    "carriers.loc[\"battery\", \"legend_name\"] = \"Existing BESS\"\n",
    "carriers.set_index(\"nice_name\", inplace=True)\n",
    "carriers.sort_values(by=\"co2_emissions\", ascending=False, inplace=True)\n",
    "carriers\n",
    "# carriers.loc['8hr_PHS', 'color'] ='#90c200'\n",
    "# carriers.loc['10hr_PHS', 'color'] ='#90c200'\n",
    "# carriers.loc['12hr_PHS', 'color'] ='#90c200'"
   ]
  },
  {
   "cell_type": "code",
   "execution_count": null,
   "metadata": {},
   "outputs": [],
   "source": [
    "def scenario_comparison(stats, variable, variable_units, carriers_, title, include_link=False):\n",
    "    colors_ = carriers_[\"color\"]\n",
    "    # Create subplots\n",
    "    fig, axes = plt.subplots(\n",
    "        nrows=len(planning_horizons), ncols=1, figsize=(8, 1.3 * len(planning_horizons)), sharex=True\n",
    "    )\n",
    "\n",
    "    # Ensure axes is always iterable (even if there's only one planning horizon)\n",
    "    if len(planning_horizons) == 1:\n",
    "        axes = [axes]\n",
    "\n",
    "    # Loop through each planning horizon\n",
    "    for ax, horizon in zip(axes, planning_horizons):\n",
    "        y_positions = np.arange(len(stats))  # One position for each scenario\n",
    "        for j, (scenario, df) in enumerate(stats.items()):\n",
    "            bottoms = np.zeros(len(df.columns))  # Initialize the bottom positions for stacking\n",
    "            if include_link:\n",
    "                df = df.loc[df.index.get_level_values(0).isin([\"Generator\", \"StorageUnit\", \"Link\"]), variable]\n",
    "                df = df.loc[~(df.index.get_level_values(1) == \"Ac\")]\n",
    "            else:\n",
    "                df = df.loc[df.index.get_level_values(0).isin([\"Generator\", \"StorageUnit\"]), variable]\n",
    "            df.index = df.index.get_level_values(1)  # Remove the first level of the index\n",
    "            df = df.reindex(carriers_.index).dropna()\n",
    "            # Stack the technologies for each scenario\n",
    "            for i, technology in enumerate(df.index.unique()):\n",
    "                values = df.loc[technology, horizon]\n",
    "                match variable_units:\n",
    "                    case \"GW\":\n",
    "                        values = values / (1e3)\n",
    "                    case \"GWh\":\n",
    "                        values = values / (1e3)\n",
    "                    case \"$MM\":\n",
    "                        values = values / (1e6)\n",
    "                    case \"$B\":\n",
    "                        values = values / (1e9)\n",
    "                    case _:\n",
    "                        values = values\n",
    "                ax.barh(\n",
    "                    y_positions[j],\n",
    "                    values,\n",
    "                    left=bottoms[j],\n",
    "                    color=colors_[technology],\n",
    "                    label=technology if j == 0 else \"\",\n",
    "                )\n",
    "                bottoms[j] += values\n",
    "\n",
    "        # Set the title for each subplot\n",
    "        ax.text(1.01, 0.5, f\"{horizon}\", transform=ax.transAxes, va=\"center\", rotation=\"vertical\")\n",
    "        ax.set_yticks(y_positions)  # Positioning scenarios on the y-axis\n",
    "        ax.set_yticklabels(stats.keys())  # Labeling y-axis with scenario names\n",
    "        ax.grid(True, axis=\"x\", linestyle=\"--\", alpha=0.5)\n",
    "\n",
    "    # Set common labels\n",
    "    plt.xlabel(f\"{variable} [{variable_units}]\")\n",
    "\n",
    "    # Reduce space between subplots\n",
    "    plt.subplots_adjust(hspace=0)\n",
    "\n",
    "    # Create legend handles and labels from the carriers DataFrame\n",
    "    carriers_plotted = carriers_.loc[carriers_.index.intersection(df.index.unique())]\n",
    "    # legend_handles = [plt.Rectangle((0, 0), 1, 1, color=colors_[tech]) for tech in carriers_.index if tech in df.index.unique()]\n",
    "    legend_handles = [plt.Rectangle((0, 0), 1, 1, color=colors_[tech]) for tech in carriers_plotted.index]\n",
    "    fig.legend(\n",
    "        handles=legend_handles,\n",
    "        labels=carriers_plotted.legend_name.tolist(),\n",
    "        loc=\"lower center\",\n",
    "        bbox_to_anchor=(0.5, -0.4),\n",
    "        ncol=4,\n",
    "        title=\"Technologies\",\n",
    "    )\n",
    "\n",
    "    # Set super title\n",
    "    fig.suptitle(title, fontsize=12, fontweight=\"bold\")\n",
    "\n",
    "    # Adjust layout\n",
    "    plt.tight_layout()\n",
    "    plt.savefig(figures_path / Path(f\"{variable}_comparison.png\"), dpi=300, bbox_inches=\"tight\")\n",
    "    return fig, axes\n",
    "\n",
    "\n",
    "# Possible Plots\n",
    "stats[next(iter(stats.keys()))].columns.get_level_values(0).unique()"
   ]
  },
  {
   "cell_type": "code",
   "execution_count": null,
   "metadata": {},
   "outputs": [],
   "source": [
    "# (stats[next(iter(stats.keys()))]['Supply'] -stats[next(iter(stats.keys()))]['Dispatch']).round(2)"
   ]
  },
  {
   "cell_type": "code",
   "execution_count": null,
   "metadata": {},
   "outputs": [],
   "source": [
    "# Define your planning horizons and other variables\n",
    "variable = \"Optimal Capacity\"\n",
    "variable_units = \"GW\"\n",
    "title = \"US Currently Implemented Policies w. Varying Limits on Transmission Expansion\"\n",
    "planning_horizons = stats[next(iter(stats.keys()))][variable].columns\n",
    "scenario_comparison(stats, variable, variable_units, carriers, title, include_link=False)"
   ]
  },
  {
   "cell_type": "code",
   "execution_count": null,
   "metadata": {},
   "outputs": [],
   "source": [
    "variable = \"Installed Capacity\"\n",
    "variable_units = \"GW\"\n",
    "scenario_comparison(stats, variable, variable_units, carriers, title, include_link=False)"
   ]
  },
  {
   "cell_type": "code",
   "execution_count": null,
   "metadata": {},
   "outputs": [],
   "source": [
    "variable = \"Supply\"\n",
    "variable_units = \"GWh\"\n",
    "scenario_comparison(stats, variable, variable_units, carriers, title, include_link=False)"
   ]
  },
  {
   "cell_type": "code",
   "execution_count": null,
   "metadata": {},
   "outputs": [],
   "source": [
    "variable = \"Capital Expenditure\"\n",
    "variable_units = \"$B\"\n",
    "scenario_comparison(stats, variable, variable_units, carriers, title, include_link=True)"
   ]
  },
  {
   "cell_type": "code",
   "execution_count": null,
   "metadata": {},
   "outputs": [],
   "source": [
    "variable = \"Revenue\"\n",
    "variable_units = \"$B\"\n",
    "scenario_comparison(stats, variable, variable_units, carriers, title, include_link=True)"
   ]
  },
  {
   "cell_type": "code",
   "execution_count": null,
   "metadata": {},
   "outputs": [],
   "source": [
    "(stats[\"No Limit\"][\"Optimal Capacity\"] - stats[\"No Limit\"][\"Installed Capacity\"]) / 1e3"
   ]
  },
  {
   "cell_type": "code",
   "execution_count": null,
   "metadata": {},
   "outputs": [],
   "source": [
    "(stats[\"2% Limit\"][\"Optimal Capacity\"] - stats[\"2% Limit\"][\"Installed Capacity\"]) / 1e3"
   ]
  },
  {
   "cell_type": "code",
   "execution_count": null,
   "metadata": {},
   "outputs": [],
   "source": [
    "print((stats[\"2% Limit\"][\"Capital Expenditure\"] - stats[\"No Expansion\"][\"Capital Expenditure\"]) / 1e6)\n",
    "print((stats[\"No Limit\"][\"Capital Expenditure\"] - stats[\"No Expansion\"][\"Capital Expenditure\"]) / 1e6)"
   ]
  },
  {
   "cell_type": "code",
   "execution_count": null,
   "metadata": {},
   "outputs": [],
   "source": [
    "(networks[\"No Expansion\"].links.p_nom * networks[\"No Expansion\"].links.length).sum() * 0.002"
   ]
  },
  {
   "cell_type": "code",
   "execution_count": null,
   "metadata": {},
   "outputs": [],
   "source": [
    "(networks[\"No Expansion\"].links.p_nom * networks[\"No Expansion\"].links.length).sum() / 648580"
   ]
  },
  {
   "cell_type": "code",
   "execution_count": null,
   "metadata": {},
   "outputs": [],
   "source": [
    "combined_df = pd.DataFrame(columns=[\"Objective\", \"Scenario\", \"statistics\"], index=[])\n",
    "for j, (scenario, n) in enumerate(networks.items()):\n",
    "    combined_df = pd.concat(\n",
    "        [\n",
    "            combined_df,\n",
    "            pd.DataFrame(\n",
    "                {\n",
    "                    \"Scenario\": scenario,\n",
    "                    \"Objective\": (n.objective) / 1e9,\n",
    "                    \"objective_constant\": (n.objective_constant / 1e9),\n",
    "                    \"statistics\": (\n",
    "                        (n.statistics.capex().sum() + n.statistics.opex().sum())\n",
    "                        * n.investment_period_weightings.objective\n",
    "                    ).sum()\n",
    "                    / 1e9,\n",
    "                },\n",
    "                index=[j],\n",
    "            ),\n",
    "        ]\n",
    "    )\n",
    "combined_df.plot(kind=\"bar\", x=\"Scenario\", y=\"Objective\", title=\"Total System Costs\", legend=False)\n",
    "combined_df = combined_df.set_index(\"Scenario\")\n",
    "plt.ylabel(\"Annualized System Costs [B$]\")\n",
    "combined_df"
   ]
  },
  {
   "cell_type": "code",
   "execution_count": null,
   "metadata": {},
   "outputs": [],
   "source": [
    "print(\n",
    "    \"Opt cost reduction\",\n",
    "    (combined_df.at[\"No Limit\", \"statistics\"] - combined_df.at[\"No Expansion\", \"statistics\"])\n",
    "    / combined_df.at[\"No Expansion\", \"statistics\"],\n",
    ")\n",
    "print(\n",
    "    \"2% cost reduction\",\n",
    "    (combined_df.at[\"2% Limit\", \"statistics\"] - combined_df.at[\"No Expansion\", \"statistics\"])\n",
    "    / combined_df.at[\"No Expansion\", \"statistics\"],\n",
    ")"
   ]
  },
  {
   "cell_type": "code",
   "execution_count": null,
   "metadata": {},
   "outputs": [],
   "source": [
    "# Plotting Opex and Capex\n",
    "# Clip lower values of Opex to 0 to not include Production Tax Credit Payments\n",
    "combined_df = pd.DataFrame(columns=[\"scenario\", \"horizon\", \"capex\", \"opex\", \"sum\"])\n",
    "for j, (scenario, df) in enumerate(stats.items()):\n",
    "    capex = df.loc[:, \"Capital Expenditure\"].sum() / 1e9\n",
    "    opex = df.loc[:, \"Operational Expenditure\"].sum() / 1e9\n",
    "    combined_df = pd.concat(\n",
    "        [\n",
    "            combined_df,\n",
    "            pd.DataFrame(\n",
    "                {\"scenario\": scenario, \"horizon\": opex.index, \"capex\": capex, \"opex\": opex, \"sum\": capex + opex}\n",
    "            ),\n",
    "        ]\n",
    "    )\n",
    "\n",
    "combined_df.reset_index(drop=True, inplace=True)\n",
    "\n",
    "# Plotting stacked bar plot with different colors for capex and opex, and hatching for scenarios\n",
    "fig, ax = plt.subplots(figsize=(6, 6))\n",
    "\n",
    "# Define separate colors for capex and opex\n",
    "capex_color = \"#1f77b4\"  # Blue for Capex\n",
    "opex_color = \"#ff7f0e\"  # Orange for Opex\n",
    "revenue_color = \"#2ca02c\"  # Green for Revenue\n",
    "\n",
    "# Define hatching patterns for each scenario\n",
    "hatches = [\"...\", \"-/\", \"\"]  # Hatching patterns for different scenarios\n",
    "\n",
    "# Plot capex and opex stacked with unique colors and scenario-based hatching\n",
    "bar_width = 3\n",
    "index = combined_df[\"horizon\"] + (combined_df.index % 2) * (bar_width + 0.05)  # Grouping by scenario\n",
    "\n",
    "for i, scenario in enumerate(combined_df[\"scenario\"].unique()):\n",
    "    scenario_df = combined_df[combined_df[\"scenario\"] == scenario]\n",
    "    ax.bar(\n",
    "        scenario_df[\"horizon\"] + i * bar_width - bar_width / 2,\n",
    "        scenario_df[\"capex\"],\n",
    "        bar_width,\n",
    "        label=f\"{scenario} Capex\",\n",
    "        color=capex_color,\n",
    "        hatch=hatches[i],\n",
    "    )\n",
    "    ax.bar(\n",
    "        scenario_df[\"horizon\"] + i * bar_width - bar_width / 2,\n",
    "        scenario_df[\"opex\"],\n",
    "        bar_width,\n",
    "        bottom=scenario_df[\"capex\"],\n",
    "        label=f\"{scenario} Opex\",\n",
    "        color=opex_color,\n",
    "        hatch=hatches[i],\n",
    "    )\n",
    "\n",
    "# Labels and title\n",
    "ax.set_xlabel(\"Investment Year\")\n",
    "ax.set_ylabel(\"$B/yr\")\n",
    "ax.set_title(\"Annualized System Costs\")\n",
    "ax.set_xticks([2030, 2040, 2050])\n",
    "ax.tick_params(axis=\"x\", pad=3)  # Adjust the pad value to reduce or increase the space\n",
    "\n",
    "ax.legend(loc=\"center left\", bbox_to_anchor=(1, 0.5))\n",
    "plt.tight_layout()\n",
    "plt.savefig(figures_path / Path(\"Annualized_Opex_Capex.png\"), dpi=300, bbox_inches=\"tight\")\n",
    "combined_df"
   ]
  },
  {
   "cell_type": "code",
   "execution_count": null,
   "metadata": {},
   "outputs": [],
   "source": [
    "combined_df.groupby(\"scenario\").sum()"
   ]
  },
  {
   "cell_type": "markdown",
   "metadata": {},
   "source": [
    "## Make Maps"
   ]
  },
  {
   "cell_type": "code",
   "execution_count": null,
   "metadata": {},
   "outputs": [],
   "source": [
    "n = pypsa.Network(\"/Users/kamrantehranchi/Local_Documents/pypsa-usa/workflow/notebooks/PaperFigures/debug/elec_s500.nc\")"
   ]
  },
  {
   "cell_type": "code",
   "execution_count": null,
   "metadata": {},
   "outputs": [],
   "source": [
    "nc = pypsa.Network(\n",
    "    \"/Users/kamrantehranchi/Local_Documents/pypsa-usa/workflow/notebooks/PaperFigures/debug/elec_s200_c132.nc\"\n",
    ")"
   ]
  },
  {
   "cell_type": "code",
   "execution_count": null,
   "metadata": {},
   "outputs": [],
   "source": [
    "n_ferc = pypsa.Network(\n",
    "    \"/Users/kamrantehranchi/Local_Documents/pypsa-usa/workflow/notebooks/PaperFigures/debug/elec_s150_c18_ec_lv1.0_REM-2000SEG_E.nc\"\n",
    ")"
   ]
  },
  {
   "cell_type": "code",
   "execution_count": null,
   "metadata": {},
   "outputs": [],
   "source": [
    "import cartopy.crs as ccrs\n",
    "import geopandas as gpd\n",
    "import matplotlib.pyplot as plt\n",
    "\n",
    "zonal_regions = gpd.read_file(\n",
    "    \"/Users/kamrantehranchi/Local_Documents/pypsa-usa/workflow/notebooks/PaperFigures/debug/regions_onshore_s200_132.geojson\"\n",
    ")\n",
    "clustered_regions = gpd.read_file(\n",
    "    \"/Users/kamrantehranchi/Local_Documents/pypsa-usa/workflow/notebooks/PaperFigures/debug/regions_onshore_s500.geojson\"\n",
    ")\n",
    "ferc_regions = gpd.read_file(\n",
    "    \"/Users/kamrantehranchi/Local_Documents/pypsa-usa/workflow/notebooks/PaperFigures/debug/regions_onshore_s150_18.geojson\"\n",
    ")"
   ]
  },
  {
   "cell_type": "code",
   "execution_count": null,
   "metadata": {},
   "outputs": [],
   "source": [
    "lines = n.lines.copy()"
   ]
  },
  {
   "cell_type": "code",
   "execution_count": null,
   "metadata": {},
   "outputs": [],
   "source": [
    "fig, ax = plt.subplots(\n",
    "    figsize=(15, 10),\n",
    "    subplot_kw={\"projection\": ccrs.EqualEarth(n.buses.x.mean())},\n",
    ")\n",
    "\n",
    "line_width = lines.s_nom / lines.s_nom.max() * 10\n",
    "link_width = n.links.p_nom / n.links.p_nom.max() * 5\n",
    "\n",
    "\n",
    "loads = n.loads.copy()\n",
    "loads.loc[:, \"total_load\"] = n.loads_t.p_set.sum(axis=0)\n",
    "loads.set_index(\"bus\", inplace=True)\n",
    "bus_sizes = loads.total_load / loads.total_load.max() * 0.01\n",
    "\n",
    "with plt.rc_context({\"patch.linewidth\": 0.1}):\n",
    "    n.plot(\n",
    "        bus_sizes=bus_sizes,\n",
    "        bus_alpha=0.7,\n",
    "        line_widths=line_width,\n",
    "        link_widths=0 if link_width.empty else link_width,\n",
    "        ax=ax,\n",
    "        margin=0.2,\n",
    "        color_geomap=None,\n",
    "    )\n",
    "\n",
    "\n",
    "clustered_regions.plot(\n",
    "    ax=ax,\n",
    "    facecolor=\"white\",\n",
    "    edgecolor=\"grey\",\n",
    "    aspect=\"equal\",\n",
    "    transform=ccrs.PlateCarree(),\n",
    "    linewidth=0.5,\n",
    ")\n",
    "\n",
    "ax.set_extent(clustered_regions.total_bounds[[0, 2, 1, 3]])\n",
    "\n",
    "legend = plt.legend(\n",
    "    [\"TAMU Clustered Network\"],\n",
    "    loc=\"lower left\",\n",
    "    title=\"Transmission Lines\",\n",
    "    frameon=True,\n",
    "    framealpha=1,\n",
    "    edgecolor=\"black\",\n",
    "    facecolor=\"white\",\n",
    "    fontsize=\"medium\",\n",
    ")"
   ]
  },
  {
   "cell_type": "code",
   "execution_count": null,
   "metadata": {},
   "outputs": [],
   "source": [
    "import cartopy.crs as ccrs\n",
    "import geopandas as gpd\n",
    "import matplotlib.pyplot as plt\n",
    "\n",
    "fig, ax = plt.subplots(\n",
    "    figsize=(15, 10),\n",
    "    subplot_kw={\"projection\": ccrs.EqualEarth(n.buses.x.mean())},\n",
    ")\n",
    "\n",
    "line_width = lines.s_nom / lines.s_nom.max() * 10\n",
    "link_width = nc.links.p_nom / nc.links.p_nom.max() * 15\n",
    "\n",
    "with plt.rc_context({\"patch.linewidth\": 0.1}):\n",
    "    nc.plot(\n",
    "        bus_sizes=0,\n",
    "        bus_alpha=0.7,\n",
    "        line_widths=0,\n",
    "        link_widths=0 if link_width.empty else link_width,\n",
    "        ax=ax,\n",
    "        margin=0.2,\n",
    "        color_geomap=None,\n",
    "    )\n",
    "\n",
    "zonal_regions.plot(\n",
    "    ax=ax,\n",
    "    facecolor=\"white\",\n",
    "    edgecolor=\"grey\",\n",
    "    aspect=\"equal\",\n",
    "    transform=ccrs.PlateCarree(),\n",
    "    linewidth=0.5,\n",
    ")\n",
    "\n",
    "ax.set_extent(zonal_regions.total_bounds[[0, 2, 1, 3]])\n",
    "\n",
    "legend = plt.legend(\n",
    "    [\"ReEDS NARIS ITLs\"],\n",
    "    loc=\"lower left\",\n",
    "    title=\"Transmission Lines\",\n",
    "    frameon=True,\n",
    "    framealpha=1,\n",
    "    edgecolor=\"black\",\n",
    "    facecolor=\"white\",\n",
    "    fontsize=\"medium\",\n",
    ")"
   ]
  },
  {
   "cell_type": "code",
   "execution_count": null,
   "metadata": {},
   "outputs": [],
   "source": [
    "fig, ax = plt.subplots(\n",
    "    figsize=(15, 10),\n",
    "    subplot_kw={\"projection\": ccrs.EqualEarth(n_ferc.buses.x.mean())},\n",
    ")\n",
    "\n",
    "lines = n_ferc.lines.copy()\n",
    "line_width = lines.s_nom / lines.s_nom.max() * 10\n",
    "link_width = n_ferc.links.p_nom / n_ferc.links.p_nom.max() * 12\n",
    "\n",
    "\n",
    "loads = n_ferc.loads.copy()\n",
    "loads.loc[:, \"total_load\"] = n_ferc.loads_t.p_set.sum(axis=0)\n",
    "loads.set_index(\"bus\", inplace=True)\n",
    "bus_sizes = loads.total_load / loads.total_load.max() * 0.01\n",
    "\n",
    "with plt.rc_context({\"patch.linewidth\": 0.1}):\n",
    "    n_ferc.plot(\n",
    "        bus_sizes=0,\n",
    "        bus_alpha=0.7,\n",
    "        line_widths=0,\n",
    "        link_widths=0 if link_width.empty else link_width,\n",
    "        ax=ax,\n",
    "        margin=0.2,\n",
    "        color_geomap=None,\n",
    "    )\n",
    "\n",
    "\n",
    "ferc_regions.plot(\n",
    "    ax=ax,\n",
    "    facecolor=\"white\",\n",
    "    edgecolor=\"grey\",\n",
    "    aspect=\"equal\",\n",
    "    transform=ccrs.PlateCarree(),\n",
    "    linewidth=0.23,\n",
    ")\n",
    "\n",
    "ax.set_extent(ferc_regions.total_bounds[[0, 2, 1, 3]])\n",
    "\n",
    "legend = plt.legend(\n",
    "    [\"FERC 1000 Transmission Planning Regions\"],\n",
    "    loc=\"lower left\",\n",
    "    title=\"Transmission Lines\",\n",
    "    frameon=True,\n",
    "    framealpha=1,\n",
    "    edgecolor=\"black\",\n",
    "    facecolor=\"white\",\n",
    "    fontsize=\"medium\",\n",
    ")"
   ]
  },
  {
   "cell_type": "code",
   "execution_count": null,
   "metadata": {},
   "outputs": [],
   "source": []
  }
 ],
 "metadata": {
  "kernelspec": {
   "display_name": "pypsa-usa",
   "language": "python",
   "name": "python3"
  },
  "language_info": {
   "codemirror_mode": {
    "name": "ipython",
    "version": 3
   },
   "file_extension": ".py",
   "mimetype": "text/x-python",
   "name": "python",
   "nbconvert_exporter": "python",
   "pygments_lexer": "ipython3",
   "version": "3.11.9"
  }
 },
 "nbformat": 4,
 "nbformat_minor": 2
}
