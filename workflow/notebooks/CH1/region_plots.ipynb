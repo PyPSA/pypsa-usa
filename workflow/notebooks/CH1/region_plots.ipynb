{
 "cells": [
  {
   "cell_type": "code",
   "execution_count": null,
   "metadata": {},
   "outputs": [],
   "source": [
    "import cartopy.crs as ccrs\n",
    "import geopandas as gpd\n",
    "import matplotlib.pyplot as plt\n",
    "import numpy as np\n",
    "import pypsa"
   ]
  },
  {
   "cell_type": "code",
   "execution_count": null,
   "metadata": {},
   "outputs": [],
   "source": [
    "zonal_regions = gpd.read_file(\n",
    "    \"/Users/kamrantehranchi/Local_Documents/pypsa-usa/workflow/notebooks/CH1/debug/regions_onshore_s200_132.geojson\"\n",
    ")\n",
    "clustered_regions = gpd.read_file(\n",
    "    \"/Users/kamrantehranchi/Local_Documents/pypsa-usa/workflow/notebooks/CH1/debug/regions_onshore_s500.geojson\"\n",
    ")\n",
    "ferc_regions = gpd.read_file(\n",
    "    \"/Users/kamrantehranchi/Local_Documents/pypsa-usa/workflow/notebooks/CH1/debug/regions_onshore_s150_18.geojson\"\n",
    ")"
   ]
  },
  {
   "cell_type": "code",
   "execution_count": null,
   "metadata": {},
   "outputs": [],
   "source": [
    "n = pypsa.Network(\"/Users/kamrantehranchi/Local_Documents/pypsa-usa/workflow/notebooks/CH1/debug/elec_s200_c132.nc\")"
   ]
  },
  {
   "cell_type": "code",
   "execution_count": null,
   "metadata": {},
   "outputs": [],
   "source": [
    "fig, ax = plt.subplots(\n",
    "    figsize=(15, 10),\n",
    "    subplot_kw={\"projection\": ccrs.EqualEarth(n.buses.x.mean())},\n",
    ")\n",
    "\n",
    "lines = n.lines.copy()\n",
    "line_width = lines.s_nom / lines.s_nom.max() * 10\n",
    "link_width = n.links.p_nom / n.links.p_nom.max() * 5\n",
    "\n",
    "\n",
    "loads = n.loads.copy()\n",
    "loads.loc[:, \"total_load\"] = n.loads_t.p_set.sum(axis=0)\n",
    "loads.set_index(\"bus\", inplace=True)\n",
    "bus_sizes = loads.total_load / loads.total_load.max() * 0.01\n",
    "\n",
    "with plt.rc_context({\"patch.linewidth\": 0.1}):\n",
    "    n.plot(\n",
    "        bus_sizes=bus_sizes,\n",
    "        bus_alpha=0.7,\n",
    "        line_widths=line_width,\n",
    "        link_widths=0 if link_width.empty else link_width,\n",
    "        ax=ax,\n",
    "        margin=0.2,\n",
    "        color_geomap=None,\n",
    "    )\n",
    "\n",
    "\n",
    "clustered_regions.plot(\n",
    "    ax=ax,\n",
    "    facecolor=\"white\",\n",
    "    edgecolor=\"grey\",\n",
    "    aspect=\"equal\",\n",
    "    transform=ccrs.PlateCarree(),\n",
    "    linewidth=0.5,\n",
    ")\n",
    "\n",
    "ax.set_extent(clustered_regions.total_bounds[[0, 2, 1, 3]])\n",
    "\n",
    "legend = plt.legend(\n",
    "    [\"TAMU Clustered Network\"],\n",
    "    loc=\"lower left\",\n",
    "    title=\"Transmission Lines\",\n",
    "    frameon=True,\n",
    "    framealpha=1,\n",
    "    edgecolor=\"black\",\n",
    "    facecolor=\"white\",\n",
    "    fontsize=\"medium\",\n",
    ")"
   ]
  },
  {
   "cell_type": "code",
   "execution_count": null,
   "metadata": {},
   "outputs": [],
   "source": [
    "n.buses"
   ]
  },
  {
   "cell_type": "code",
   "execution_count": null,
   "metadata": {},
   "outputs": [],
   "source": [
    "def plot_regions(n, region_type, text_location=\"centroid\", label_size=10):\n",
    "    # Create a figure and axis with the same projection as before\n",
    "    fig, ax = plt.subplots(figsize=(15, 10), subplot_kw={\"projection\": ccrs.PlateCarree()})\n",
    "\n",
    "    # Get unique reeds_ba values from n.buses and create a color map\n",
    "    unique_regions = n.buses[region_type].unique()\n",
    "\n",
    "    # # Create a custom colormap with more distinct colors by combining multiple colormaps\n",
    "    # colors1 = plt.cm.tab20(np.linspace(0, 1, 20))\n",
    "    # colors2 = plt.cm.tab20b(np.linspace(0, 1, 20))\n",
    "    # colors3 = plt.cm.tab20c(np.linspace(0, 1, 20))\n",
    "    # colors = np.vstack((colors1, colors2, colors3))\n",
    "    # # Take only as many colors as needed\n",
    "    # colors = colors[: len(unique_regions)]\n",
    "    # color_dict = dict(zip(unique_regions, colors))\n",
    "\n",
    "    # Create a custom colormap with more distinct colors by combining multiple colormaps\n",
    "    colors1 = plt.cm.tab20(np.linspace(0, 1, 20))\n",
    "    colors2 = plt.cm.tab20b(np.linspace(0, 1, 20))\n",
    "    colors3 = plt.cm.tab20c(np.linspace(0, 1, 20))\n",
    "    colors = np.vstack((colors1, colors2, colors3))\n",
    "    # Repeat colors if needed to match number of regions\n",
    "    n_colors_needed = len(unique_regions)\n",
    "    n_colors_available = len(colors)\n",
    "    if n_colors_needed > n_colors_available:\n",
    "        n_repeats = int(np.ceil(n_colors_needed / n_colors_available))\n",
    "        colors = np.tile(colors, (n_repeats, 1))\n",
    "    # Take only as many colors as needed\n",
    "    colors = colors[:n_colors_needed]\n",
    "    color_dict = dict(zip(unique_regions, colors))\n",
    "\n",
    "    # Plot each region with its corresponding color based on reeds_ba\n",
    "    for r_name in unique_regions:\n",
    "        # Get the buses in this balancing authority\n",
    "        ba_buses = n.buses[n.buses[region_type] == r_name].index\n",
    "        # Filter regions that contain these buses\n",
    "        mask = zonal_regions.name.isin(ba_buses)\n",
    "        regions = zonal_regions[mask]\n",
    "        regions.plot(\n",
    "            ax=ax,\n",
    "            facecolor=color_dict[r_name],\n",
    "            aspect=\"equal\",\n",
    "            transform=ccrs.PlateCarree(),\n",
    "            linewidth=0,\n",
    "            edgecolor=None,\n",
    "            label=r_name,\n",
    "        )\n",
    "\n",
    "        # Calculate and plot the centroid label for this BA\n",
    "        if text_location == \"centroid\":\n",
    "            centroid = regions.union_all().centroid\n",
    "        else:\n",
    "            centroid = regions.union_all().representative_point()\n",
    "\n",
    "        ax.text(\n",
    "            centroid.x,\n",
    "            centroid.y,\n",
    "            r_name,\n",
    "            transform=ccrs.PlateCarree(),\n",
    "            color=\"black\",\n",
    "            ha=\"center\",\n",
    "            va=\"center\",\n",
    "            fontsize=label_size,\n",
    "            fontweight=\"bold\",\n",
    "        )\n",
    "\n",
    "    # Set the extent of the plot\n",
    "    ax.set_extent(zonal_regions.total_bounds[[0, 2, 1, 3]])\n",
    "\n",
    "    # Add title just above the bounds\n",
    "    bounds = zonal_regions.total_bounds\n",
    "    title_x = (bounds[0] + bounds[2]) / 2  # Center x-coordinate\n",
    "    title_y = bounds[3] + (bounds[3] - bounds[1]) * 0.02  # 2% above top bound\n",
    "    ax.text(\n",
    "        title_x,\n",
    "        title_y,\n",
    "        f\"'{region_type}' boundaries\",\n",
    "        transform=ccrs.PlateCarree(),\n",
    "        ha=\"center\",\n",
    "        va=\"bottom\",\n",
    "        fontsize=20,\n",
    "        fontweight=\"bold\",\n",
    "    )\n",
    "\n",
    "    # Remove the box around the plot\n",
    "    ax.spines[\"geo\"].set_visible(False)"
   ]
  },
  {
   "cell_type": "code",
   "execution_count": null,
   "metadata": {},
   "outputs": [],
   "source": [
    "plot_regions(n, \"interconnect\", text_location=\"centroid\", label_size=15)"
   ]
  },
  {
   "cell_type": "code",
   "execution_count": null,
   "metadata": {},
   "outputs": [],
   "source": [
    "region_type = \"nerc_reg\"\n",
    "plot_regions(n, region_type, text_location=\"centroid\", label_size=15)"
   ]
  },
  {
   "cell_type": "code",
   "execution_count": null,
   "metadata": {},
   "outputs": [],
   "source": [
    "region_type = \"trans_reg\"\n",
    "plot_regions(n, region_type, text_location=\"centroid\", label_size=15)"
   ]
  },
  {
   "cell_type": "code",
   "execution_count": null,
   "metadata": {},
   "outputs": [],
   "source": [
    "region_type = \"reeds_ba\"\n",
    "plot_regions(n, region_type, text_location=\"representative_point\", label_size=12)"
   ]
  },
  {
   "cell_type": "code",
   "execution_count": null,
   "metadata": {},
   "outputs": [],
   "source": [
    "plot_regions(n, \"reeds_state\", text_location=\"centroid\")"
   ]
  },
  {
   "cell_type": "code",
   "execution_count": null,
   "metadata": {},
   "outputs": [],
   "source": [
    "region_type = \"reeds_zone\"\n",
    "plot_regions(n, region_type, \"centroid\", 8)"
   ]
  },
  {
   "cell_type": "code",
   "execution_count": null,
   "metadata": {},
   "outputs": [],
   "source": []
  }
 ],
 "metadata": {
  "kernelspec": {
   "display_name": "pypsa-usa",
   "language": "python",
   "name": "python3"
  },
  "language_info": {
   "codemirror_mode": {
    "name": "ipython",
    "version": 3
   },
   "file_extension": ".py",
   "mimetype": "text/x-python",
   "name": "python",
   "nbconvert_exporter": "python",
   "pygments_lexer": "ipython3",
   "version": "3.11.9"
  }
 },
 "nbformat": 4,
 "nbformat_minor": 2
}
