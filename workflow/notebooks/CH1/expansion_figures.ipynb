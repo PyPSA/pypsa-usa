{
 "cells": [
  {
   "cell_type": "code",
   "execution_count": null,
   "metadata": {},
   "outputs": [],
   "source": [
    "from pathlib import Path\n",
    "\n",
    "import numpy as np\n",
    "import pandas as pd\n",
    "import pypsa\n",
    "from matplotlib import pyplot as plt"
   ]
  },
  {
   "cell_type": "code",
   "execution_count": null,
   "metadata": {},
   "outputs": [],
   "source": [
    "run_folder = \"informs\"\n",
    "scenarios_path = Path(\n",
    "    f\"/Users/kamrantehranchi/Local_Documents/pypsa-usa/workflow/notebooks/PaperFigures/{run_folder}/networks\"\n",
    ")\n",
    "figures_path = Path(\n",
    "    f\"/Users/kamrantehranchi/Local_Documents/pypsa-usa/workflow/notebooks/PaperFigures/{run_folder}/figures\"\n",
    ")"
   ]
  },
  {
   "cell_type": "code",
   "execution_count": null,
   "metadata": {},
   "outputs": [],
   "source": [
    "# Read all networks in the scenarios folder store them in dicts with the scenario name as key\n",
    "networks = {}\n",
    "for scenario in scenarios_path.iterdir():\n",
    "    scenario_name = scenario.stem\n",
    "    networks[scenario_name] = pypsa.Network(scenario)"
   ]
  },
  {
   "cell_type": "code",
   "execution_count": null,
   "metadata": {},
   "outputs": [],
   "source": [
    "# Extract Network.statistics for each scenario\n",
    "stats = {}\n",
    "carriers_dict = {}\n",
    "for network_name, network in networks.items():\n",
    "    scenario_name = network_name\n",
    "    stats[scenario_name] = network.statistics()\n",
    "    carriers_dict[scenario_name] = network.carriers"
   ]
  },
  {
   "cell_type": "code",
   "execution_count": null,
   "metadata": {},
   "outputs": [],
   "source": [
    "# Add alias to the stats dict\n",
    "\n",
    "# INFORMS\n",
    "alias_dict = {\n",
    "    \"elec_s75_c4m_ec_lv1.0_REM-2000SEG_E\": \"ReEDS\",\n",
    "    \"elec_s75_c58m_ec_lv1.0_REM-2000SEG_E\": \"County\",\n",
    "    \"elec_s75_c4m_ec_lv1.0_REM-4000SEG_E\": \"ReEDS_4000\",\n",
    "    \"elec_s75_c58m_ec_lv1.0_REM-4000SEG_E\": \"County_4000\",\n",
    "}\n",
    "\n",
    "\n",
    "stats_with_alias = {}\n",
    "for scenario_name, df in stats.items():\n",
    "    if scenario_name in alias_dict:\n",
    "        alias_name = alias_dict[scenario_name]\n",
    "        stats_with_alias[alias_name] = df\n",
    "    else:\n",
    "        stats_with_alias[scenario_name] = df\n",
    "\n",
    "stats = stats_with_alias\n",
    "\n",
    "# New ordering\n",
    "new_order = [\"ReEDS\", \"County\"]\n",
    "stats = {key: stats[key] for key in new_order}"
   ]
  },
  {
   "cell_type": "code",
   "execution_count": null,
   "metadata": {},
   "outputs": [],
   "source": [
    "carriers = carriers_dict[\"elec_s75_c58m_ec_lv1.0_REM-2000SEG_E\"].copy()\n",
    "carriers[\"legend_name\"] = carriers.nice_name\n",
    "carriers.loc[\"DC\", \"legend_name\"] = \"Transmission\"\n",
    "carriers.loc[\"DC\", \"color\"] = \"#cf1dab\"\n",
    "carriers.loc[\"battery\", \"legend_name\"] = \"Existing BESS\"\n",
    "carriers.set_index(\"nice_name\", inplace=True)\n",
    "carriers.sort_values(by=\"co2_emissions\", ascending=False, inplace=True)\n",
    "carriers\n",
    "# carriers.loc['8hr_PHS', 'color'] ='#90c200'\n",
    "# carriers.loc['10hr_PHS', 'color'] ='#90c200'\n",
    "# carriers.loc['12hr_PHS', 'color'] ='#90c200'"
   ]
  },
  {
   "cell_type": "code",
   "execution_count": null,
   "metadata": {},
   "outputs": [],
   "source": [
    "def scenario_comparison(stats, variable, variable_units, carriers_, title, include_link=False):\n",
    "    colors_ = carriers_[\"color\"]\n",
    "    # Create subplots\n",
    "    fig, axes = plt.subplots(\n",
    "        nrows=len(planning_horizons), ncols=1, figsize=(8, 1.2 * len(planning_horizons)), sharex=True\n",
    "    )\n",
    "\n",
    "    # Ensure axes is always iterable (even if there's only one planning horizon)\n",
    "    if len(planning_horizons) == 1:\n",
    "        axes = [axes]\n",
    "\n",
    "    # Loop through each planning horizon\n",
    "    for ax, horizon in zip(axes, planning_horizons):\n",
    "        y_positions = np.arange(len(stats))  # One position for each scenario\n",
    "        for j, (scenario, df) in enumerate(stats.items()):\n",
    "            df = df.fillna(0)\n",
    "            bottoms = np.zeros(len(df.columns))  # Initialize the bottom positions for stacking\n",
    "            if include_link:\n",
    "                df = df.loc[df.index.get_level_values(0).isin([\"Generator\", \"StorageUnit\", \"Link\"]), variable]\n",
    "                df = df.loc[~(df.index.get_level_values(1) == \"Ac\")]\n",
    "            else:\n",
    "                df = df.loc[df.index.get_level_values(0).isin([\"Generator\", \"StorageUnit\"]), variable]\n",
    "            df.index = df.index.get_level_values(1)  # Remove the first level of the index\n",
    "            df = df.reindex(carriers_.index).dropna()\n",
    "            # Stack the technologies for each scenario\n",
    "            for i, technology in enumerate(df.index.unique()):\n",
    "                values = df.loc[technology, horizon]\n",
    "                match variable_units:\n",
    "                    case \"GW\":\n",
    "                        values = values / (1e3)\n",
    "                    case \"GWh\":\n",
    "                        values = values / (1e3)\n",
    "                    case \"$MM\":\n",
    "                        values = values / (1e6)\n",
    "                    case \"$B\":\n",
    "                        values = values / (1e9)\n",
    "                    case _:\n",
    "                        values = values\n",
    "                ax.barh(\n",
    "                    y_positions[j],\n",
    "                    values,\n",
    "                    left=bottoms[j],\n",
    "                    color=colors_[technology],\n",
    "                    label=technology if j == 0 else \"\",\n",
    "                )\n",
    "                bottoms[j] += values\n",
    "\n",
    "        # Set the title for each subplot\n",
    "        ax.text(1.01, 0.5, f\"{horizon}\", transform=ax.transAxes, va=\"center\", rotation=\"vertical\")\n",
    "        ax.set_yticks(y_positions)  # Positioning scenarios on the y-axis\n",
    "        ax.set_yticklabels(stats.keys())  # Labeling y-axis with scenario names\n",
    "        ax.grid(True, axis=\"x\", linestyle=\"--\", alpha=0.5)\n",
    "\n",
    "    # Set common labels\n",
    "    plt.xlabel(f\"{variable} [{variable_units}]\")\n",
    "\n",
    "    # Reduce space between subplots\n",
    "    plt.subplots_adjust(hspace=0)\n",
    "\n",
    "    # Create legend handles and labels from the carriers DataFrame\n",
    "    carriers_plotted = carriers_.loc[carriers_.index.intersection(df.index.unique())]\n",
    "    # legend_handles = [plt.Rectangle((0, 0), 1, 1, color=colors_[tech]) for tech in carriers_.index if tech in df.index.unique()]\n",
    "    legend_handles = [plt.Rectangle((0, 0), 1, 1, color=colors_[tech]) for tech in carriers_plotted.index]\n",
    "    fig.legend(\n",
    "        handles=legend_handles,\n",
    "        labels=carriers_plotted.legend_name.tolist(),\n",
    "        loc=\"lower center\",\n",
    "        bbox_to_anchor=(0.5, -0.4),\n",
    "        ncol=4,\n",
    "        title=\"Technologies\",\n",
    "    )\n",
    "\n",
    "    # Set super title\n",
    "    fig.suptitle(title, fontsize=12, fontweight=\"bold\")\n",
    "\n",
    "    # Adjust layout\n",
    "    plt.tight_layout()\n",
    "    plt.savefig(figures_path / Path(f\"{variable}_comparison.png\"), dpi=300, bbox_inches=\"tight\")\n",
    "    return fig, axes\n",
    "\n",
    "\n",
    "# Possible Plots\n",
    "stats[next(iter(stats.keys()))].columns.get_level_values(0).unique()"
   ]
  },
  {
   "cell_type": "code",
   "execution_count": null,
   "metadata": {},
   "outputs": [],
   "source": [
    "# Define your planning horizons and other variables\n",
    "variable = \"Optimal Capacity\"\n",
    "variable_units = \"GW\"\n",
    "title = \"Comparison of Transmission Resolution for California 8 MMT Target\"\n",
    "planning_horizons = stats[next(iter(stats.keys()))][variable].columns\n",
    "scenario_comparison(stats, variable, variable_units, carriers, title, include_link=False)"
   ]
  },
  {
   "cell_type": "code",
   "execution_count": null,
   "metadata": {},
   "outputs": [],
   "source": [
    "variable = \"Installed Capacity\"\n",
    "variable_units = \"GW\"\n",
    "scenario_comparison(stats, variable, variable_units, carriers, title)"
   ]
  },
  {
   "cell_type": "code",
   "execution_count": null,
   "metadata": {},
   "outputs": [],
   "source": [
    "variable = \"Supply\"\n",
    "variable_units = \"GWh\"\n",
    "scenario_comparison(stats, variable, variable_units, carriers, title, include_link=False)"
   ]
  },
  {
   "cell_type": "code",
   "execution_count": null,
   "metadata": {},
   "outputs": [],
   "source": [
    "variable = \"Capital Expenditure\"\n",
    "variable_units = \"$B\"\n",
    "scenario_comparison(stats, variable, variable_units, carriers, title, include_link=True)"
   ]
  },
  {
   "cell_type": "code",
   "execution_count": null,
   "metadata": {},
   "outputs": [],
   "source": [
    "variable = \"Operational Expenditure\"\n",
    "variable_units = \"$B\"\n",
    "scenario_comparison(stats, variable, variable_units, carriers, title, include_link=True)"
   ]
  },
  {
   "cell_type": "code",
   "execution_count": null,
   "metadata": {},
   "outputs": [],
   "source": [
    "# Plotting Opex and Capex\n",
    "# Clip lower values of Opex to 0 to not include Production Tax Credit Payments\n",
    "combined_df = pd.DataFrame(columns=[\"scenario\", \"horizon\", \"capex\", \"opex\", \"revenue\"])\n",
    "for j, (scenario, df) in enumerate(stats.items()):\n",
    "    capex = df.loc[df.index.get_level_values(0).isin([\"Generator\", \"StorageUnit\"]), \"Capital Expenditure\"].sum() / 1e9\n",
    "    opex = (\n",
    "        df.loc[df.index.get_level_values(0).isin([\"Generator\", \"StorageUnit\"]), \"Operational Expenditure\"]\n",
    "        .clip(lower=0)\n",
    "        .sum()\n",
    "        / 1e9\n",
    "    )\n",
    "    revenue = df.loc[df.index.get_level_values(0).isin([\"Generator\", \"StorageUnit\"]), \"Revenue\"].sum() / 1e9\n",
    "    combined_df = pd.concat(\n",
    "        [\n",
    "            combined_df,\n",
    "            pd.DataFrame(\n",
    "                {\"scenario\": scenario, \"horizon\": opex.index, \"capex\": capex, \"opex\": opex, \"revenue\": revenue}\n",
    "            ),\n",
    "        ]\n",
    "    )\n",
    "\n",
    "combined_df.reset_index(drop=True, inplace=True)\n",
    "\n",
    "# Plotting stacked bar plot with different colors for capex and opex, and hatching for scenarios\n",
    "fig, ax = plt.subplots(figsize=(6, 6))\n",
    "\n",
    "# Define separate colors for capex and opex\n",
    "capex_color = \"#1f77b4\"  # Blue for Capex\n",
    "opex_color = \"#ff7f0e\"  # Orange for Opex\n",
    "revenue_color = \"#2ca02c\"  # Green for Revenue\n",
    "\n",
    "# Define hatching patterns for each scenario\n",
    "hatches = [\"...\", \"\"]  # Hatching patterns for different scenarios\n",
    "\n",
    "# Plot capex and opex stacked with unique colors and scenario-based hatching\n",
    "bar_width = 3\n",
    "index = combined_df[\"horizon\"] + (combined_df.index % 2) * (bar_width + 0.05)  # Grouping by scenario\n",
    "\n",
    "for i, scenario in enumerate(combined_df[\"scenario\"].unique()):\n",
    "    scenario_df = combined_df[combined_df[\"scenario\"] == scenario]\n",
    "    ax.bar(\n",
    "        scenario_df[\"horizon\"] + i * bar_width - bar_width / 2,\n",
    "        scenario_df[\"capex\"],\n",
    "        bar_width,\n",
    "        label=f\"{scenario} Capex\",\n",
    "        color=capex_color,\n",
    "        hatch=hatches[i],\n",
    "    )\n",
    "    ax.bar(\n",
    "        scenario_df[\"horizon\"] + i * bar_width - bar_width / 2,\n",
    "        scenario_df[\"opex\"],\n",
    "        bar_width,\n",
    "        bottom=scenario_df[\"capex\"],\n",
    "        label=f\"{scenario} Opex\",\n",
    "        color=opex_color,\n",
    "        hatch=hatches[i],\n",
    "    )\n",
    "    # ax.bar(scenario_df['horizon'] + i * bar_width - bar_width / 2,\n",
    "    #        scenario_df['revenue'],\n",
    "    #        bar_width,\n",
    "    #        label=f'{scenario} Revenue',\n",
    "    #        color=revenue_color,\n",
    "    #        hatch=hatches[i])\n",
    "\n",
    "# Labels and title\n",
    "ax.set_xlabel(\"Investment Year\")\n",
    "ax.set_ylabel(\"$B/yr\")\n",
    "ax.set_title(\"Annualized Opex and Capex\")\n",
    "ax.set_xticks([2030, 2040, 2050])\n",
    "ax.tick_params(axis=\"x\", pad=3)  # Adjust the pad value to reduce or increase the space\n",
    "\n",
    "ax.legend(loc=\"center left\", bbox_to_anchor=(1, 0.5))\n",
    "plt.tight_layout()\n",
    "plt.savefig(figures_path / Path(\"Annualized_Opex_Capex.png\"), dpi=300, bbox_inches=\"tight\")"
   ]
  },
  {
   "cell_type": "code",
   "execution_count": null,
   "metadata": {},
   "outputs": [],
   "source": [
    "df = stats[\"County\"][\"Revenue\"]\n",
    "# df.loc[df.index.get_level_values(0).isin([\"Generator\", \"StorageUnit\"])].clip(lower=0)\n",
    "df"
   ]
  },
  {
   "cell_type": "code",
   "execution_count": null,
   "metadata": {},
   "outputs": [],
   "source": [
    "variable = \"Revenue\"\n",
    "variable_units = \"$B\"\n",
    "scenario_comparison(stats, variable, variable_units, carriers, title)"
   ]
  },
  {
   "cell_type": "markdown",
   "metadata": {},
   "source": [
    "# Compare Renewable Profiles"
   ]
  },
  {
   "cell_type": "code",
   "execution_count": null,
   "metadata": {},
   "outputs": [],
   "source": [
    "n = networks[\"elec_s75_c4m_ec_lv1.0_REM-2000SEG_E\"]\n",
    "gen_cf = n.generators_t.p_max_pu.mean(axis=0)\n",
    "\n",
    "n.generators[\"cf\"] = gen_cf\n",
    "n.generators[\"cf\"].hist(bins=100, hue=n.generators.carrier, alpha=0.5)"
   ]
  },
  {
   "cell_type": "code",
   "execution_count": null,
   "metadata": {},
   "outputs": [],
   "source": [
    "n_exp = pypsa.Network(\n",
    "    \"/Users/kamrantehranchi/Local_Documents/pypsa-usa/workflow/notebooks/PaperFigures/informs/Shelock_Runs/elec_s75_c58m_ec_lv1.5_REM-2000SEG_E.nc\"\n",
    ")"
   ]
  },
  {
   "cell_type": "code",
   "execution_count": null,
   "metadata": {},
   "outputs": [],
   "source": [
    "expandable = n_exp.links[n_exp.links.p_nom_extendable]\n",
    "\n",
    "expandable[[\"p_nom\", \"p_nom_opt\", \"p_nom_max\"]]\n",
    "\n",
    "(expandable.p_nom - expandable.p_nom_opt).sort_values(ascending=False)"
   ]
  },
  {
   "cell_type": "code",
   "execution_count": null,
   "metadata": {},
   "outputs": [],
   "source": [
    "n_exp.links"
   ]
  },
  {
   "cell_type": "code",
   "execution_count": null,
   "metadata": {},
   "outputs": [],
   "source": [
    "n_exp.global_constraints"
   ]
  }
 ],
 "metadata": {
  "kernelspec": {
   "display_name": "pypsa-usa_test",
   "language": "python",
   "name": "python3"
  },
  "language_info": {
   "codemirror_mode": {
    "name": "ipython",
    "version": 3
   },
   "file_extension": ".py",
   "mimetype": "text/x-python",
   "name": "python",
   "nbconvert_exporter": "python",
   "pygments_lexer": "ipython3",
   "version": "3.11.9"
  }
 },
 "nbformat": 4,
 "nbformat_minor": 2
}
