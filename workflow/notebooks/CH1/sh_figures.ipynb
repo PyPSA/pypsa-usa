{
 "cells": [
  {
   "cell_type": "code",
   "execution_count": null,
   "metadata": {},
   "outputs": [],
   "source": [
    "import matplotlib.pyplot as plt\n",
    "import pandas as pd"
   ]
  },
  {
   "cell_type": "code",
   "execution_count": null,
   "metadata": {},
   "outputs": [],
   "source": [
    "file_path = \"/Users/kamrantehranchi/Local_Documents/pypsa-usa/workflow/results/base_paper_single_horizon/Optimal Capacity_comparison.csv\"\n",
    "data = pd.read_csv(file_path)\n",
    "data.head()"
   ]
  },
  {
   "cell_type": "code",
   "execution_count": null,
   "metadata": {},
   "outputs": [],
   "source": [
    "carriers = pd.read_csv(\n",
    "    \"/Users/kamrantehranchi/Local_Documents/pypsa-usa/workflow/results/base_paper_single_horizon/carriers.csv\"\n",
    ")\n",
    "carriers = carriers.set_index(\"nice_name\").color\n",
    "carriers"
   ]
  },
  {
   "cell_type": "code",
   "execution_count": null,
   "metadata": {
    "vscode": {
     "languageId": "ruby"
    }
   },
   "outputs": [],
   "source": [
    "# Combine 'Battery Storage' and '4Hr_Battery_Storage' rows\n",
    "data['nice_name'] = data['nice_name'].replace({'4Hr_Battery_Storage': 'Battery Storage'})\n",
    "\n",
    "# Group by the necessary columns and sum the statistics\n",
    "data = data.groupby(['nice_name', 'Scenario', 'horizon', 'scenario_name', 'trans_expansion'], as_index=False).sum()"
   ]
  },
  {
   "cell_type": "code",
   "execution_count": null,
   "metadata": {
    "vscode": {
     "languageId": "ruby"
    }
   },
   "outputs": [],
   "source": [
    "# Remove 'Ac' from data\n",
    "data = data[data['nice_name'] != 'Ac']"
   ]
  },
  {
   "cell_type": "code",
   "execution_count": null,
   "metadata": {},
   "outputs": [],
   "source": [
    "# Preprocessing the trans_expansion column to extract numerical values\n",
    "# Assuming '0x', '1x', etc., represent numeric multipliers like 1, 2, etc.\n",
    "data[\"trans_expansion_numeric\"] = data[\"trans_expansion\"].str.extract(r\"(\\d+\\.?\\d*)\").astype(float)\n",
    "\n",
    "# Checking for unique scenario names and valid numeric values\n",
    "unique_scenarios = data[\"scenario_name\"].unique()\n",
    "trans_expansion_check = data[\"trans_expansion_numeric\"].unique()\n",
    "\n",
    "unique_scenarios, trans_expansion_check"
   ]
  },
  {
   "cell_type": "code",
   "execution_count": null,
   "metadata": {},
   "outputs": [],
   "source": [
    "# Filter out rows with NaN in the 'trans_expansion_numeric' column\n",
    "data_cleaned = data.dropna(subset=[\"trans_expansion_numeric\"])\n",
    "\n",
    "# Group the data by scenario_name for plotting\n",
    "grouped_data = data_cleaned.groupby(\"scenario_name\")"
   ]
  },
  {
   "cell_type": "code",
   "execution_count": null,
   "metadata": {},
   "outputs": [],
   "source": [
    "sys_cost = pd.read_csv(\n",
    "    \"/Users/kamrantehranchi/Local_Documents/pypsa-usa/workflow/results/base_paper_single_horizon/System Costs_comparison.csv\"\n",
    ").round(3)\n",
    "# sys_cost.Scenario.map(\n",
    "trans_exp_dict = data_cleaned.set_index(\"Scenario\")[\"trans_expansion_numeric\"].to_dict()\n",
    "scenario_dict = data_cleaned.set_index(\"Scenario\")[\"scenario_name\"].to_dict()\n",
    "sys_cost[\"trans_expansion_numeric\"] = sys_cost.Scenario.map(trans_exp_dict)\n",
    "sys_cost[\"scenario_name\"] = sys_cost.Scenario.map(scenario_dict)\n",
    "sys_cost.dropna(subset=[\"trans_expansion_numeric\"], inplace=True)\n",
    "sys_cost"
   ]
  },
  {
   "cell_type": "code",
   "execution_count": null,
   "metadata": {},
   "outputs": [],
   "source": []
  },
  {
   "cell_type": "code",
   "execution_count": null,
   "metadata": {},
   "outputs": [],
   "source": []
  },
  {
   "cell_type": "code",
   "execution_count": null,
   "metadata": {},
   "outputs": [],
   "source": [
    "# Initialize the plot again\n",
    "font_size = 30\n",
    "fig, axs = plt.subplots(1, len(unique_scenarios), figsize=(12, 6), sharey=True)\n",
    "fig.subplots_adjust(wspace=0.1)\n",
    "\n",
    "# Plot each scenario as a subplot\n",
    "for ax, (scenario, scenario_data) in zip(axs, grouped_data):\n",
    "    # Sort data by trans_expansion_numeric for consistent plotting\n",
    "    scenario_data = scenario_data.sort_values(\"trans_expansion_numeric\")\n",
    "    cost_scenario_data = sys_cost[sys_cost[\"scenario_name\"] == scenario]\n",
    "\n",
    "    # Create a twin y-axis to plot cost_scenario_data\n",
    "    ax2 = ax.twinx()\n",
    "\n",
    "    # Group by nice_name to plot separate lines for each\n",
    "    for nice_name, group_data in scenario_data.groupby(\"nice_name\"):\n",
    "        ax.plot(\n",
    "            group_data[\"trans_expansion_numeric\"],\n",
    "            group_data[\"statistics\"],\n",
    "            marker=\"o\",\n",
    "            label=nice_name,\n",
    "            color=carriers[nice_name],\n",
    "        )\n",
    "\n",
    "    # Plot cost_scenario_data on the secondary y-axis\n",
    "    ax2.plot(\n",
    "        cost_scenario_data[\"trans_expansion_numeric\"],\n",
    "        cost_scenario_data[\"statistics\"],\n",
    "        marker=\"x\",\n",
    "        linestyle=\"--\",\n",
    "        color=\"black\",\n",
    "        label=\"System Cost\",\n",
    "    )\n",
    "\n",
    "    # Set labels and title\n",
    "    ax.set_title(f\"{scenario}\", fontsize=font_size)\n",
    "    ax.set_xlabel(\"Transmission Expansion Factor\", fontsize=font_size)\n",
    "    ax.set_xscale(\"linear\")  # Adjust scaling if necessary\n",
    "    ax.grid(True)\n",
    "\n",
    "    # Set secondary y-axis label\n",
    "    # ax2.set_ylabel(\"System Cost\", fontsize=font_size)\n",
    "\n",
    "    # Set y-axis limits for both primary and secondary y-axes\n",
    "    ax.set_ylim(50, 1000)\n",
    "    ax2.set_ylim(80, 220)\n",
    "\n",
    "# Set the shared y-axis label\n",
    "axs[0].set_ylabel(\"Optimal Capacity [GW]\", fontsize=font_size)\n",
    "\n",
    "# Increase font size of x and y axis\n",
    "for ax in axs:\n",
    "    ax.tick_params(axis=\"x\", labelsize=font_size)\n",
    "    ax.tick_params(axis=\"y\", labelsize=font_size)\n",
    "    for line in ax.get_lines():\n",
    "        line.set_linewidth(4)\n",
    "\n",
    "ax2.tick_params(axis=\"y\", labelsize=font_size)\n",
    "ax2.set_ylabel(\"System Cost [$B/yr]\", fontsize=font_size)\n",
    "\n",
    "# Add legend to the first subplot for all lines (common legend)\n",
    "handles, labels = axs[0].get_legend_handles_labels()\n",
    "fig.legend(handles, labels, title=\"\", loc=\"upper center\", bbox_to_anchor=(0.5, -0.05), fontsize=font_size, ncol=2)\n",
    "\n",
    "# Show the plot\n",
    "plt.tight_layout()\n",
    "plt.show()"
   ]
  },
  {
   "cell_type": "code",
   "execution_count": null,
   "metadata": {},
   "outputs": [],
   "source": []
  },
  {
   "cell_type": "code",
   "execution_count": null,
   "metadata": {},
   "outputs": [],
   "source": []
  }
 ],
 "metadata": {
  "kernelspec": {
   "display_name": "pypsa-usa",
   "language": "python",
   "name": "python3"
  },
  "language_info": {
   "codemirror_mode": {
    "name": "ipython",
    "version": 3
   },
   "file_extension": ".py",
   "mimetype": "text/x-python",
   "name": "python",
   "nbconvert_exporter": "python",
   "pygments_lexer": "ipython3",
   "version": "3.11.9"
  }
 },
 "nbformat": 4,
 "nbformat_minor": 2
}
