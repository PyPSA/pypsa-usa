{
 "cells": [
  {
   "cell_type": "code",
   "execution_count": null,
   "metadata": {},
   "outputs": [],
   "source": [
    "import pandas as pd\n",
    "import geopandas as gpd\n",
    "import pandas as pd\n",
    "import plotly.express as px\n",
    "from pathlib import Path"
   ]
  },
  {
   "cell_type": "code",
   "execution_count": null,
   "metadata": {},
   "outputs": [],
   "source": [
    "shape_path = Path(\"./../../data/counties/cb_2020_us_county_500k.shp\")\n",
    "data_path = Path(\"./../../data/industry_load/2014_update_20170910-0116.csv\")"
   ]
  },
  {
   "cell_type": "code",
   "execution_count": null,
   "metadata": {},
   "outputs": [],
   "source": [
    "gdf = gpd.read_file(shape_path)\n",
    "df = pd.read_csv(data_path)"
   ]
  },
  {
   "cell_type": "code",
   "execution_count": null,
   "metadata": {},
   "outputs": [],
   "source": [
    "county_2_state = df.set_index(\"fips_matching\")[\"fipstate\"].to_dict()\n",
    "fips_2_state = {\n",
    "    \"01\": \"ALABAMA\",\n",
    "    \"02\": \"ALASKA\",\n",
    "    \"04\": \"ARIZONA\",\n",
    "    \"05\": \"ARKANSAS\",\n",
    "    \"06\": \"CALIFORNIA\",\n",
    "    \"08\": \"COLORADO\",\n",
    "    \"09\": \"CONNECTICUT\",\n",
    "    \"10\": \"DELAWARE\",\n",
    "    \"11\": \"DISTRICT OF COLUMBIA\",\n",
    "    \"12\": \"FLORIDA\",\n",
    "    \"13\": \"GEORGIA\",\n",
    "    \"15\": \"HAWAII\",\n",
    "    \"16\": \"IDAHO\",\n",
    "    \"17\": \"ILLINOIS\",\n",
    "    \"18\": \"INDIANA\",\n",
    "    \"19\": \"IOWA\",\n",
    "    \"20\": \"KANSAS\",\n",
    "    \"21\": \"KENTUCKY\",\n",
    "    \"22\": \"LOUISIANA\",\n",
    "    \"23\": \"MAINE\",\n",
    "    \"24\": \"MARYLAND\",\n",
    "    \"25\": \"MASSACHUSETTS\",\n",
    "    \"26\": \"MICHIGAN\",\n",
    "    \"27\": \"MINNESOTA\",\n",
    "    \"28\": \"MISSISSIPPI\",\n",
    "    \"29\": \"MISSOURI\",\n",
    "    \"30\": \"MONTANA\",\n",
    "    \"31\": \"NEBRASKA\",\n",
    "    \"32\": \"NEVADA\",\n",
    "    \"33\": \"NEW HAMPSHIRE\",\n",
    "    \"34\": \"NEW JERSEY\",\n",
    "    \"35\": \"NEW MEXICO\",\n",
    "    \"36\": \"NEW YORK\",\n",
    "    \"37\": \"NORTH CAROLINA\",\n",
    "    \"38\": \"NORTH DAKOTA\",\n",
    "    \"39\": \"OHIO\",\n",
    "    \"40\": \"OKLAHOMA\",\n",
    "    \"41\": \"OREGON\",\n",
    "    \"42\": \"PENNSYLVANIA\",\n",
    "    \"44\": \"RHODE ISLAND\",\n",
    "    \"45\": \"SOUTH CAROLINA\",\n",
    "    \"46\": \"SOUTH DAKOTA\",\n",
    "    \"47\": \"TENNESSEE\",\n",
    "    \"48\": \"TEXAS\",\n",
    "    \"49\": \"UTAH\",\n",
    "    \"50\": \"VERMONT\",\n",
    "    \"51\": \"VIRGINIA\",\n",
    "    \"53\": \"WASHINGTON\",\n",
    "    \"54\": \"WEST VIRGINIA\",\n",
    "    \"55\": \"WISCONSIN\",\n",
    "    \"56\": \"WYOMING\",\n",
    "}"
   ]
  },
  {
   "cell_type": "code",
   "execution_count": null,
   "metadata": {},
   "outputs": [],
   "source": [
    "df.columns"
   ]
  },
  {
   "cell_type": "code",
   "execution_count": null,
   "metadata": {},
   "outputs": [],
   "source": [
    "shapes = gdf[[\"GEOID\", \"geometry\"]].set_index(\"GEOID\")\n",
    "shapes.index = shapes.index.astype(int)\n",
    "shapes.head()"
   ]
  },
  {
   "cell_type": "code",
   "execution_count": null,
   "metadata": {},
   "outputs": [],
   "source": [
    "energy = (\n",
    "    df[[\"fips_matching\", \"Total\"]]\n",
    "    .rename(columns={\"fips_matching\": \"GEOID\"})\n",
    "    .groupby(\"GEOID\")\n",
    "    .sum()\n",
    ")\n",
    "energy.index = energy.index.astype(int)\n",
    "energy.head()"
   ]
  },
  {
   "cell_type": "code",
   "execution_count": null,
   "metadata": {},
   "outputs": [],
   "source": [
    "final = shapes.join(energy).fillna(0)\n",
    "final[\"state\"] = final.index.map(county_2_state)\n",
    "final = final.dropna()\n",
    "final[\"state\"] = final.state.map(lambda x: fips_2_state[\"{:02d}\".format(int(x))])\n",
    "final"
   ]
  },
  {
   "cell_type": "code",
   "execution_count": null,
   "metadata": {},
   "outputs": [],
   "source": [
    "filtered = final[\n",
    "    final.state.isin(\n",
    "        [\n",
    "            \"CALIFORNIA\",\n",
    "            \"WASHINGTON\",\n",
    "            \"IDAHO\",\n",
    "            \"OREGON\",\n",
    "            \"NEW MEXICO\",\n",
    "            \"NEVADA\",\n",
    "            \"UTAH\",\n",
    "            \"WYOMING\",\n",
    "            \"MONTANA\",\n",
    "            \"ARIZONA\",\n",
    "            \"COLORADO\",\n",
    "        ]\n",
    "    )\n",
    "]\n",
    "# filtered = final.copy()\n",
    "px.choropleth(\n",
    "    filtered,\n",
    "    geojson=filtered.geometry,\n",
    "    locations=filtered.index,\n",
    "    color=\"Total\",\n",
    "    color_continuous_scale=\"Viridis\",\n",
    "    # range_color=(0, 12),\n",
    "    scope=\"usa\",\n",
    ")"
   ]
  }
 ],
 "metadata": {
  "kernelspec": {
   "display_name": "pypsa-usa",
   "language": "python",
   "name": "python3"
  },
  "language_info": {
   "codemirror_mode": {
    "name": "ipython",
    "version": 3
   },
   "file_extension": ".py",
   "mimetype": "text/x-python",
   "name": "python",
   "nbconvert_exporter": "python",
   "pygments_lexer": "ipython3",
   "version": "3.11.9"
  }
 },
 "nbformat": 4,
 "nbformat_minor": 2
}
