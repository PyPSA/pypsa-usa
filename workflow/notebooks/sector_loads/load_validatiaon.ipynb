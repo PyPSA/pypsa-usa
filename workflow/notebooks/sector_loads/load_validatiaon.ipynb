{
 "cells": [
  {
   "cell_type": "markdown",
   "metadata": {},
   "source": [
    "# PyPSA-USA Loads\n",
    "This workbook comarpares the different load options agaisnt one another.\n",
    "\n",
    "**Note, this must be run from the `scripts/` folder until PyPSA-USA is packaged**"
   ]
  },
  {
   "cell_type": "code",
   "execution_count": null,
   "metadata": {},
   "outputs": [],
   "source": [
    "import pandas as pd\n",
    "import geopandas as gpd\n",
    "import matplotlib.pyplot as plt\n",
    "import seaborn as sns\n",
    "import math\n",
    "from plotly.subplots import make_subplots\n",
    "import plotly.graph_objects as go\n",
    "import plotly.express as px\n",
    "\n",
    "import os\n",
    "\n",
    "pd.options.plotting.backend = \"plotly\"\n",
    "\n",
    "from build_demand import ReadCliu, ReadEfs, ReadEia, ReadEulp"
   ]
  },
  {
   "cell_type": "markdown",
   "metadata": {},
   "source": [
    "## Helper Functions"
   ]
  },
  {
   "cell_type": "code",
   "execution_count": null,
   "metadata": {},
   "outputs": [],
   "source": [
    "PLOTLY_COLORS = {\n",
    "    \"EIA\": \"#636EFA\",\n",
    "    \"EFS\": \"#EF553B\",\n",
    "    \"RESSTOCK\": \"#00CC96\",\n",
    "    \"COMSTOCK\": \"#AB63FA\",\n",
    "    \"CLIU\": \"#FFA15A\",\n",
    "    \"Difference\": \"#FF6692\",\n",
    "    \"SYSTEM\": \"#FECB52\",\n",
    "    \"NREL\": \"#00CC96\",\n",
    "}"
   ]
  },
  {
   "cell_type": "markdown",
   "metadata": {},
   "source": [
    "## Electricity Only \n",
    "\n",
    "Loads for electricity only studies "
   ]
  },
  {
   "cell_type": "code",
   "execution_count": null,
   "metadata": {},
   "outputs": [],
   "source": [
    "eia = ReadEia(\"./../data/GridEmissions/EIA_DMD_2018_2024.csv\").read_demand()\n",
    "efs = ReadEfs(\"./../data/nrel_efs/EFSLoadProfile_Reference_Moderate.csv\").read_demand()"
   ]
  },
  {
   "cell_type": "code",
   "execution_count": null,
   "metadata": {},
   "outputs": [],
   "source": [
    "def format_electricity(df, year=2020):\n",
    "    df = df.loc[df.index.get_level_values(\"snapshot\").year == year]\n",
    "    df.index = df.index.droplevel([\"sector\", \"subsector\", \"fuel\"])\n",
    "    df = pd.DataFrame(df.sum(axis=1), columns=[\"Load_MW\"]).reset_index()\n",
    "    return df.groupby([\"snapshot\"]).sum()\n",
    "\n",
    "\n",
    "def plot_electricity(df, freq, cumsum):\n",
    "    if cumsum:\n",
    "        data = df.cumsum().resample(freq).sum()\n",
    "        title = f\"Cummulative Demand (Resampled at {freq})\"\n",
    "    else:\n",
    "        data = df.resample(freq).sum()\n",
    "        title = f\"Demand (Resampled at {freq})\"\n",
    "    diff = pd.DataFrame((data.EIA - data.EFS) / data.EIA * 100, columns=[\"Difference\"])\n",
    "\n",
    "    fig = make_subplots(\n",
    "        rows=2,\n",
    "        cols=1,\n",
    "        subplot_titles=(title, f\"Difference (Resampled at {freq})\"),\n",
    "    )\n",
    "    for source in (\"EIA\", \"EFS\"):\n",
    "        fig.add_trace(\n",
    "            go.Bar(\n",
    "                x=data.index,\n",
    "                y=data[source],\n",
    "                name=source,\n",
    "                marker={\"color\": PLOTLY_COLORS[source]},\n",
    "            ),\n",
    "            row=1,\n",
    "            col=1,\n",
    "        )\n",
    "    fig.add_trace(\n",
    "        go.Bar(\n",
    "            x=diff.index,\n",
    "            y=diff[\"Difference\"],\n",
    "            name=\"Difference\",\n",
    "            marker={\"color\": PLOTLY_COLORS[\"Difference\"]},\n",
    "        ),\n",
    "        row=2,\n",
    "        col=1,\n",
    "    )\n",
    "    fig[\"layout\"][\"yaxis\"][\"title\"] = \"Demand (MW)\"\n",
    "    fig[\"layout\"][\"yaxis2\"][\"title\"] = \"Difference (%)\"\n",
    "\n",
    "    fig.update_layout(autosize=True, height=750)\n",
    "\n",
    "    fig.show()"
   ]
  },
  {
   "cell_type": "code",
   "execution_count": null,
   "metadata": {},
   "outputs": [],
   "source": [
    "eia_2020 = format_electricity(eia).rename(columns={\"Load_MW\": \"EIA\"})\n",
    "efs_2020 = format_electricity(efs).rename(columns={\"Load_MW\": \"EFS\"})\n",
    "loads = eia_2020.join(efs_2020, how=\"outer\").fillna(0)"
   ]
  },
  {
   "cell_type": "code",
   "execution_count": null,
   "metadata": {},
   "outputs": [],
   "source": [
    "plot_electricity(loads, freq=\"W\", cumsum=False)"
   ]
  },
  {
   "cell_type": "code",
   "execution_count": null,
   "metadata": {},
   "outputs": [],
   "source": [
    "plot_electricity(loads, freq=\"W\", cumsum=True)"
   ]
  },
  {
   "cell_type": "markdown",
   "metadata": {},
   "source": [
    "## Sector Coupling Studies "
   ]
  },
  {
   "cell_type": "code",
   "execution_count": null,
   "metadata": {},
   "outputs": [],
   "source": [
    "efs = ReadEfs(\"./../data/nrel_efs/EFSLoadProfile_Reference_Moderate.csv\").read_demand()\n",
    "resstock_files = os.listdir(\"./../data/eulp/res/\")\n",
    "resstock = ReadEulp(\n",
    "    [f\"./../data/eulp/res/{x}\" for x in resstock_files if x.endswith(\".csv\")],\n",
    "    stock=\"res\",\n",
    ").read_demand()\n",
    "comstock_files = os.listdir(\"./../data/eulp/com/\")\n",
    "comstock = ReadEulp(\n",
    "    [f\"./../data/eulp/com/{x}\" for x in comstock_files if x.endswith(\".csv\")],\n",
    "    stock=\"com\",\n",
    ").read_demand()\n",
    "cliu = ReadCliu(\n",
    "    \"./../data/industry_load/2014_update_20170910-0116.csv\",\n",
    "    profiles_filepath=\"./../data/industry_load/epri_industrial_loads.csv\",\n",
    ").read_demand()"
   ]
  },
  {
   "cell_type": "markdown",
   "metadata": {},
   "source": [
    "### Helpers"
   ]
  },
  {
   "cell_type": "code",
   "execution_count": null,
   "metadata": {},
   "outputs": [],
   "source": [
    "def adjust_snapshots(df, year=2018):\n",
    "    assert df.index.name == \"snapshot\"\n",
    "    df = df.reset_index()\n",
    "    df[\"snapshot\"] = df.snapshot.map(lambda x: x.replace(year=year))\n",
    "    return df.groupby(\"snapshot\").sum().sort_index()\n",
    "\n",
    "\n",
    "def group_sector_snapshots(df):\n",
    "    assert df.index.name == \"snapshot\"\n",
    "    df = df.reset_index()\n",
    "    return df.groupby(\"snapshot\").sum().sort_index()\n",
    "\n",
    "\n",
    "def filter_sector(df, sector):\n",
    "    df = df.loc[\n",
    "        (df.index.get_level_values(\"sector\") == sector)\n",
    "        & (df.index.get_level_values(\"fuel\") == \"electricity\")\n",
    "    ].copy()\n",
    "    return df.droplevel([\"sector\", \"subsector\", \"fuel\"])\n",
    "\n",
    "\n",
    "def filter_sector_snapshots(df, year=2018):\n",
    "    return df.loc[df.index.get_level_values(\"snapshot\").year == year]\n",
    "\n",
    "\n",
    "def format_sector_data(df):\n",
    "    return (\n",
    "        df.reset_index()\n",
    "        .melt(id_vars=\"snapshot\", var_name=\"State\")\n",
    "        .set_index(\"snapshot\")\n",
    "    )\n",
    "\n",
    "\n",
    "def plot_sector(efs, other, other_name, sector, freq, cumsum):\n",
    "    if cumsum:\n",
    "        efs_data = (\n",
    "            efs[[\"value\"]]\n",
    "            .rename(columns={\"value\": \"EFS\"})\n",
    "            .cumsum()\n",
    "            .resample(freq)\n",
    "            .sum()\n",
    "        )\n",
    "        other_data = (\n",
    "            other[[\"value\"]]\n",
    "            .rename(columns={\"value\": other_name})\n",
    "            .cumsum()\n",
    "            .resample(freq)\n",
    "            .sum()\n",
    "        )\n",
    "        sns_data = efs_data.join(other_data)\n",
    "        title = f\"Cummulative System Level {sector} Demand (Resampled at {freq})\"\n",
    "    else:\n",
    "        efs_data = efs[[\"value\"]].rename(columns={\"value\": \"EFS\"}).resample(freq).sum()\n",
    "        other_data = (\n",
    "            other[[\"value\"]].rename(columns={\"value\": other_name}).resample(freq).sum()\n",
    "        )\n",
    "        sns_data = efs_data.join(other_data)\n",
    "        title = f\"System Level {sector} Demand (Resampled at {freq})\"\n",
    "    diff = pd.DataFrame(\n",
    "        (efs_data.EFS - sns_data[other_name]) / sns_data.EFS * 100,\n",
    "        columns=[\"Difference\"],\n",
    "    )\n",
    "\n",
    "    fig = make_subplots(\n",
    "        rows=2,\n",
    "        cols=1,\n",
    "        subplot_titles=(\n",
    "            title,\n",
    "            f\"{sector} Difference (Resampled at {freq})\",\n",
    "        ),\n",
    "    )\n",
    "    for source in (\"EFS\", other_name):\n",
    "        fig.add_trace(\n",
    "            go.Bar(\n",
    "                x=sns_data.index,\n",
    "                y=sns_data[source],\n",
    "                name=source,\n",
    "                marker={\"color\": PLOTLY_COLORS[source]},\n",
    "            ),\n",
    "            row=1,\n",
    "            col=1,\n",
    "        )\n",
    "    fig.add_trace(\n",
    "        go.Bar(\n",
    "            x=diff.index,\n",
    "            y=diff[\"Difference\"],\n",
    "            name=\"Difference\",\n",
    "            marker={\"color\": PLOTLY_COLORS[\"Difference\"]},\n",
    "        ),\n",
    "        row=2,\n",
    "        col=1,\n",
    "    )\n",
    "    fig[\"layout\"][\"yaxis\"][\"title\"] = \"Demand (MW)\"\n",
    "    fig[\"layout\"][\"yaxis2\"][\"title\"] = \"Difference (%)\"\n",
    "\n",
    "    fig.update_layout(autosize=True, height=750)\n",
    "\n",
    "    fig.show()\n",
    "\n",
    "\n",
    "def plot_sector_state(efs, other, other_name, sector):\n",
    "\n",
    "    state_efs_data = (\n",
    "        efs.reset_index()\n",
    "        .drop(columns=\"snapshot\")\n",
    "        .groupby(\"State\")\n",
    "        .sum()\n",
    "        .rename(columns={\"value\": \"EFS\"})\n",
    "    )\n",
    "    state_other_data = (\n",
    "        other.reset_index()\n",
    "        .drop(columns=\"snapshot\")\n",
    "        .groupby(\"State\")\n",
    "        .sum()\n",
    "        .rename(columns={\"value\": other_name})\n",
    "    )\n",
    "    state_data = state_efs_data.join(state_other_data).fillna(0)\n",
    "    diff = pd.DataFrame(\n",
    "        (state_data.EFS - state_data[other_name]) / state_data.EFS * 100,\n",
    "        columns=[\"Difference\"],\n",
    "    )\n",
    "\n",
    "    fig = make_subplots(\n",
    "        rows=2,\n",
    "        cols=1,\n",
    "        subplot_titles=(\n",
    "            f\"{sector} State Level Electrical Demand\",\n",
    "            f\"{sector} Difference\",\n",
    "        ),\n",
    "    )\n",
    "\n",
    "    for source in (\"EFS\", other_name):\n",
    "        fig.add_trace(\n",
    "            go.Bar(\n",
    "                x=state_data.index,\n",
    "                y=state_data[source],\n",
    "                name=source,\n",
    "                marker={\"color\": PLOTLY_COLORS[source]},\n",
    "            ),\n",
    "            row=1,\n",
    "            col=1,\n",
    "        )\n",
    "    fig.add_trace(\n",
    "        go.Bar(\n",
    "            x=diff.index,\n",
    "            y=diff[\"Difference\"],\n",
    "            name=\"Difference\",\n",
    "            marker={\"color\": PLOTLY_COLORS[\"Difference\"]},\n",
    "        ),\n",
    "        row=2,\n",
    "        col=1,\n",
    "    )\n",
    "    fig[\"layout\"][\"yaxis\"][\"title\"] = \"Demand (MW)\"\n",
    "    fig[\"layout\"][\"yaxis2\"][\"title\"] = \"Difference (%)\"\n",
    "\n",
    "    fig.update_layout(autosize=True, height=750)\n",
    "\n",
    "    fig.show()"
   ]
  },
  {
   "cell_type": "markdown",
   "metadata": {},
   "source": [
    "### Adjust to 2018 data"
   ]
  },
  {
   "cell_type": "code",
   "execution_count": null,
   "metadata": {},
   "outputs": [],
   "source": [
    "efs_2018 = filter_sector_snapshots(efs)"
   ]
  },
  {
   "cell_type": "markdown",
   "metadata": {},
   "source": [
    "### Residential Demand"
   ]
  },
  {
   "cell_type": "code",
   "execution_count": null,
   "metadata": {},
   "outputs": [],
   "source": [
    "resstock_2018 = filter_sector(resstock, \"residential\")\n",
    "resstock_2018 = adjust_snapshots(resstock_2018)\n",
    "resstock_2018 = format_sector_data(resstock_2018)\n",
    "efs_res_2018 = filter_sector(efs_2018, \"residential\")\n",
    "efs_res_2018 = group_sector_snapshots(efs_res_2018)\n",
    "efs_res_2018 = format_sector_data(efs_res_2018)"
   ]
  },
  {
   "cell_type": "code",
   "execution_count": null,
   "metadata": {},
   "outputs": [],
   "source": [
    "plot_sector(\n",
    "    efs_res_2018, resstock_2018, \"RESSTOCK\", \"Residential\", freq=\"W\", cumsum=False\n",
    ")"
   ]
  },
  {
   "cell_type": "code",
   "execution_count": null,
   "metadata": {},
   "outputs": [],
   "source": [
    "plot_sector_state(efs_res_2018, resstock_2018, \"RESSTOCK\", \"Residential\")"
   ]
  },
  {
   "cell_type": "markdown",
   "metadata": {},
   "source": [
    "### Commercial Demand "
   ]
  },
  {
   "cell_type": "code",
   "execution_count": null,
   "metadata": {},
   "outputs": [],
   "source": [
    "comstock_2018 = filter_sector(comstock, \"commercial\")\n",
    "comstock_2018 = adjust_snapshots(comstock_2018)\n",
    "comstock_2018 = format_sector_data(comstock_2018)\n",
    "efs_com_2018 = filter_sector(efs_2018, \"commercial\")\n",
    "efs_com_2018 = group_sector_snapshots(efs_com_2018)\n",
    "efs_com_2018 = format_sector_data(efs_com_2018)"
   ]
  },
  {
   "cell_type": "code",
   "execution_count": null,
   "metadata": {},
   "outputs": [],
   "source": [
    "plot_sector(\n",
    "    efs_com_2018, comstock_2018, \"COMSTOCK\", \"Commercial\", freq=\"W\", cumsum=False\n",
    ")"
   ]
  },
  {
   "cell_type": "code",
   "execution_count": null,
   "metadata": {},
   "outputs": [],
   "source": [
    "plot_sector_state(efs_com_2018, comstock_2018, \"COMSTOCK\", \"Commercial\")"
   ]
  },
  {
   "cell_type": "markdown",
   "metadata": {},
   "source": [
    "### Res + Com Demand"
   ]
  },
  {
   "cell_type": "code",
   "execution_count": null,
   "metadata": {},
   "outputs": [],
   "source": [
    "nrel_building_2018 = pd.concat(\n",
    "    [\n",
    "        resstock_2018.reset_index(),\n",
    "        comstock_2018.reset_index(),\n",
    "    ]\n",
    ")\n",
    "nrel_building_2018 = (\n",
    "    nrel_building_2018.groupby([\"snapshot\", \"State\"])\n",
    "    .sum()\n",
    "    .reset_index()\n",
    "    .set_index(\"snapshot\")\n",
    ")\n",
    "\n",
    "efs_building_2018 = pd.concat(\n",
    "    [\n",
    "        efs_res_2018.reset_index(),\n",
    "        efs_com_2018.reset_index(),\n",
    "    ]\n",
    ")\n",
    "efs_building_2018 = (\n",
    "    efs_building_2018.groupby([\"snapshot\", \"State\"])\n",
    "    .sum()\n",
    "    .reset_index()\n",
    "    .set_index(\"snapshot\")\n",
    ")"
   ]
  },
  {
   "cell_type": "code",
   "execution_count": null,
   "metadata": {},
   "outputs": [],
   "source": [
    "plot_sector(\n",
    "    efs_building_2018, nrel_building_2018, \"NREL\", \"Buildings\", freq=\"W\", cumsum=False\n",
    ")"
   ]
  },
  {
   "cell_type": "code",
   "execution_count": null,
   "metadata": {},
   "outputs": [],
   "source": [
    "plot_sector(\n",
    "    efs_building_2018, nrel_building_2018, \"NREL\", \"Buildings\", freq=\"W\", cumsum=True\n",
    ")"
   ]
  },
  {
   "cell_type": "code",
   "execution_count": null,
   "metadata": {},
   "outputs": [],
   "source": [
    "plot_sector_state(efs_building_2018, nrel_building_2018, \"NREL\", \"Buildings\")"
   ]
  },
  {
   "cell_type": "markdown",
   "metadata": {},
   "source": [
    "### Industrial Demand "
   ]
  },
  {
   "cell_type": "code",
   "execution_count": null,
   "metadata": {},
   "outputs": [],
   "source": [
    "cliu_2018 = filter_sector(cliu, \"industry\")\n",
    "cliu_2018 = adjust_snapshots(cliu_2018)\n",
    "cliu_2018 = format_sector_data(cliu_2018)\n",
    "efs_ind_2018 = filter_sector(efs_2018, \"industry\")\n",
    "efs_ind_2018 = group_sector_snapshots(efs_ind_2018)\n",
    "efs_ind_2018 = format_sector_data(efs_ind_2018)"
   ]
  },
  {
   "cell_type": "code",
   "execution_count": null,
   "metadata": {},
   "outputs": [],
   "source": [
    "plot_sector(efs_ind_2018, cliu_2018, \"CLIU\", \"Industry\", freq=\"W\", cumsum=False)"
   ]
  },
  {
   "cell_type": "code",
   "execution_count": null,
   "metadata": {},
   "outputs": [],
   "source": [
    "plot_sector_state(efs_ind_2018, cliu_2018, \"CLIU\", \"Industry\")"
   ]
  },
  {
   "cell_type": "markdown",
   "metadata": {},
   "source": [
    "## System Level Sector Coupling"
   ]
  },
  {
   "cell_type": "code",
   "execution_count": null,
   "metadata": {},
   "outputs": [],
   "source": [
    "efs_trn_2018 = filter_sector(efs_2018, \"transport\")\n",
    "efs_trn_2018 = group_sector_snapshots(efs_trn_2018)\n",
    "efs_trn_2018 = format_sector_data(efs_trn_2018)"
   ]
  },
  {
   "cell_type": "code",
   "execution_count": null,
   "metadata": {},
   "outputs": [],
   "source": [
    "system_sectors = pd.concat(\n",
    "    [\n",
    "        resstock_2018.reset_index(),\n",
    "        comstock_2018.reset_index(),\n",
    "        cliu_2018.reset_index(),\n",
    "        efs_trn_2018.reset_index(),\n",
    "    ]\n",
    ")\n",
    "system_sectors = (\n",
    "    system_sectors.groupby([\"snapshot\", \"State\"])\n",
    "    .sum()\n",
    "    .reset_index()\n",
    "    .set_index(\"snapshot\")\n",
    ")"
   ]
  },
  {
   "cell_type": "code",
   "execution_count": null,
   "metadata": {},
   "outputs": [],
   "source": [
    "efs_2018 = efs.loc[\n",
    "    (efs.index.get_level_values(\"snapshot\").year == 2018)\n",
    "    & (efs.index.get_level_values(\"fuel\") == \"electricity\")\n",
    "]\n",
    "efs_2018.index = efs_2018.index.droplevel([\"sector\", \"subsector\", \"fuel\"])\n",
    "efs_2018 = format_sector_data(efs_2018)"
   ]
  },
  {
   "cell_type": "code",
   "execution_count": null,
   "metadata": {},
   "outputs": [],
   "source": [
    "plot_sector(efs_2018, system_sectors, \"SYSTEM\", \"Total\", freq=\"W\", cumsum=False)"
   ]
  },
  {
   "cell_type": "code",
   "execution_count": null,
   "metadata": {},
   "outputs": [],
   "source": [
    "plot_sector_state(efs_2018, system_sectors, \"SYSTEM\", \"Total\")"
   ]
  }
 ],
 "metadata": {
  "kernelspec": {
   "display_name": "pypsa-usa",
   "language": "python",
   "name": "python3"
  },
  "language_info": {
   "codemirror_mode": {
    "name": "ipython",
    "version": 3
   },
   "file_extension": ".py",
   "mimetype": "text/x-python",
   "name": "python",
   "nbconvert_exporter": "python",
   "pygments_lexer": "ipython3",
   "version": "3.11.9"
  }
 },
 "nbformat": 4,
 "nbformat_minor": 2
}
