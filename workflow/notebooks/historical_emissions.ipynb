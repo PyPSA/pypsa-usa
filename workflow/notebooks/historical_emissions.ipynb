{
 "cells": [
  {
   "cell_type": "code",
   "execution_count": null,
   "metadata": {},
   "outputs": [],
   "source": [
    "# Note, you must run this notebook from the scripts/ directory"
   ]
  },
  {
   "cell_type": "code",
   "execution_count": null,
   "metadata": {},
   "outputs": [],
   "source": [
    "import pandas as pd\n",
    "from eia import Emissions\n",
    "from constants import STATES_INTERCONNECT_MAPPER, STATE_2_CODE"
   ]
  },
  {
   "cell_type": "code",
   "execution_count": null,
   "metadata": {},
   "outputs": [],
   "source": [
    "EIA_API = \"\""
   ]
  },
  {
   "cell_type": "code",
   "execution_count": null,
   "metadata": {},
   "outputs": [],
   "source": [
    "def create_emission_table(sector, year, api):\n",
    "    df = Emissions(sector, year, api).get_data()\n",
    "    df[\"code\"] = df.state.map(STATE_2_CODE)\n",
    "    df[\"interconnect\"] = df.code.map(STATES_INTERCONNECT_MAPPER)\n",
    "    df = df.dropna(subset=[\"interconnect\"])[\n",
    "        [\"value\", \"units\", \"interconnect\"]\n",
    "    ].reset_index()\n",
    "    df[\"value\"] = df.value.astype(float)\n",
    "    return df.groupby([\"period\", \"interconnect\", \"units\"]).sum().round(2)"
   ]
  },
  {
   "cell_type": "code",
   "execution_count": null,
   "metadata": {},
   "outputs": [],
   "source": [
    "power = []\n",
    "for year in [2005, 2010, 2015, 2019, 2020, 2021]:\n",
    "    power.append(create_emission_table(\"power\", year, EIA_API))\n",
    "pd.concat(power)"
   ]
  },
  {
   "cell_type": "code",
   "execution_count": null,
   "metadata": {},
   "outputs": [],
   "source": [
    "total = []\n",
    "for year in [2005, 2010, 2015, 2019, 2020, 2021]:\n",
    "    total.append(create_emission_table(\"total\", year, EIA_API))\n",
    "pd.concat(total)"
   ]
  }
 ],
 "metadata": {
  "kernelspec": {
   "display_name": "pypsa-usa",
   "language": "python",
   "name": "python3"
  },
  "language_info": {
   "codemirror_mode": {
    "name": "ipython",
    "version": 3
   },
   "file_extension": ".py",
   "mimetype": "text/x-python",
   "name": "python",
   "nbconvert_exporter": "python",
   "pygments_lexer": "ipython3",
   "version": "3.11.8"
  }
 },
 "nbformat": 4,
 "nbformat_minor": 2
}
