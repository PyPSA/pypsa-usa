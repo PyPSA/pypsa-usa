{
 "cells": [
  {
   "cell_type": "code",
   "execution_count": null,
   "metadata": {},
   "outputs": [],
   "source": [
    "import pandas as pd\n",
    "\n",
    "missing_gps = pd.read_csv(\"missing_gps_pudl.csv\")\n",
    "eia_plants = pd.read_excel(\n",
    "    \"/Users/kamrantehranchi/Local_Documents/powerplants_usa/data/eia8602022/2___Plant_Y2022.xlsx\",\n",
    "    skiprows=1,\n",
    ")[[\"Plant Code\", \"Latitude\", \"Longitude\"]]\n",
    "missing_gps"
   ]
  },
  {
   "cell_type": "code",
   "execution_count": null,
   "metadata": {},
   "outputs": [],
   "source": [
    "# Pivot of Plant Capacities Missing Locations\n",
    "pd.pivot_table(\n",
    "    missing_gps,\n",
    "    index=\"nerc_region\",\n",
    "    columns=\"carrier\",\n",
    "    values=\"p_nom\",\n",
    "    aggfunc=\"sum\",\n",
    "    fill_value=0,\n",
    "    margins=True,\n",
    ").round(2)"
   ]
  },
  {
   "cell_type": "code",
   "execution_count": null,
   "metadata": {},
   "outputs": [],
   "source": [
    "pd.merge(\n",
    "    missing_gps[[\"generator_name\", \"plant_id_eia\", \"generator_id\", \"plant_name_eia\"]],\n",
    "    eia_plants,\n",
    "    left_on=\"plant_id_eia\",\n",
    "    right_on=\"Plant Code\",\n",
    "    how=\"inner\",\n",
    ")"
   ]
  },
  {
   "cell_type": "code",
   "execution_count": null,
   "metadata": {},
   "outputs": [],
   "source": []
  },
  {
   "cell_type": "code",
   "execution_count": null,
   "metadata": {},
   "outputs": [],
   "source": []
  }
 ],
 "metadata": {
  "kernelspec": {
   "display_name": "pypsa-usa",
   "language": "python",
   "name": "python3"
  },
  "language_info": {
   "codemirror_mode": {
    "name": "ipython",
    "version": 3
   },
   "file_extension": ".py",
   "mimetype": "text/x-python",
   "name": "python",
   "nbconvert_exporter": "python",
   "pygments_lexer": "ipython3",
   "version": "3.11.9"
  }
 },
 "nbformat": 4,
 "nbformat_minor": 2
}
