{
 "cells": [
  {
   "cell_type": "code",
   "execution_count": null,
   "id": "ab5f293c-e072-43c1-9dde-da80a70ac3f6",
   "metadata": {},
   "outputs": [],
   "source": [
    "import pypsa\n",
    "import numpy as np\n",
    "import pandas as pd\n",
    "import matplotlib.pyplot as plt\n",
    "\n",
    "plt.rcParams[\"figure.figsize\"] = [10, 5]\n",
    "import seaborn as sns\n",
    "import matplotlib.dates as mdates"
   ]
  },
  {
   "cell_type": "markdown",
   "id": "0470b71b-0951-4d94-ba29-e2ec2002cde7",
   "metadata": {},
   "source": [
    "### Optimized"
   ]
  },
  {
   "cell_type": "code",
   "execution_count": null,
   "id": "eb639a55-5e77-407a-aa24-cc954ce56f9f",
   "metadata": {
    "scrolled": true
   },
   "outputs": [],
   "source": [
    "# Import solved network\n",
    "nw = pypsa.Network(\n",
    "    \"/Users/nomio/Documents/REU/Fall_2324/test/pypsa-usa/workflow/results/western/networks/elec_s_30_ec_lv1.25_Co2L1.25.nc\"\n",
    ")\n",
    "# columns_to_drop = [col for col in nw.generators_t[\"p\"].columns if 'Arizona' in col]\n",
    "# ba_carrier = nw.generators_t[\"p\"].drop(columns_to_drop, axis=1)\n",
    "optimized = (\n",
    "    ba_carrier.groupby(axis=\"columns\", by=nw.generators[\"carrier\"])\n",
    "    .sum()\n",
    "    .loc[\"2019-01-02 00:00:00\":\"2019-12-30 23:00:00\"]\n",
    ")\n",
    "optimized[\"CCGT\"] = optimized[\"CCGT\"] + optimized[\"OCGT\"]\n",
    "optimized_final = optimized.drop([\"OCGT\", \"offwind\", \"load\"], axis=1)\n",
    "op_f = optimized_final.rename(\n",
    "    columns={\n",
    "        \"CCGT\": \"Natural gas\",\n",
    "        \"hydro\": \"Hydro\",\n",
    "        \"oil\": \"Oil\",\n",
    "        \"onwind\": \"Onshore wind\",\n",
    "        \"solar\": \"Solar\",\n",
    "        \"nuclear\": \"Nuclear\",\n",
    "        \"coal\": \"Coal\",\n",
    "        \"geothermal\": \"Other\",\n",
    "    }\n",
    ")\n",
    "optimized = op_f / 1e3\n",
    "optimized"
   ]
  },
  {
   "cell_type": "code",
   "execution_count": null,
   "id": "808db81e-1b3a-4525-800d-16f30721f7f5",
   "metadata": {},
   "outputs": [],
   "source": [
    "nw = pypsa.Network(\n",
    "    \"/Users/nomio/Documents/REU/Fall_2324/pypsa-usa-n/workflow/results/western/networks/elec_s_30_ec_lv1.25_Co2L1.25.nc\"\n",
    ")\n",
    "nw.generators_t[\"p\"]"
   ]
  },
  {
   "cell_type": "code",
   "execution_count": null,
   "id": "bbd721b5-a658-4861-b23c-4923e8a03c6e",
   "metadata": {},
   "outputs": [],
   "source": [
    "nw = pypsa.Network(\n",
    "    \"/Users/nomio/Documents/REU/Fall_2324/test/pypsa-usa/workflow/results/western/networks/elec_s_100_ec_lv1.25_Co2L1.25.nc\"\n",
    ")\n",
    "# columns_to_drop = [col for col in nw.generators_t[\"p\"].columns if 'Arizona' in col]\n",
    "# ba_carrier = nw.generators_t[\"p\"].drop(columns_to_drop, axis=1)\n",
    "optimized = (\n",
    "    ba_carrier.groupby(axis=\"columns\", by=nw.generators[\"carrier\"])\n",
    "    .sum()\n",
    "    .loc[\"2019-01-02 00:00:00\":\"2019-12-30 23:00:00\"]\n",
    ")\n",
    "optimized[\"CCGT\"] = optimized[\"CCGT\"] + optimized[\"OCGT\"]\n",
    "optimized_final = optimized.drop([\"OCGT\", \"offwind\", \"load\"], axis=1)\n",
    "op_f = optimized_final.rename(\n",
    "    columns={\n",
    "        \"CCGT\": \"Natural gas\",\n",
    "        \"hydro\": \"Hydro\",\n",
    "        \"oil\": \"Oil\",\n",
    "        \"onwind\": \"Onshore wind\",\n",
    "        \"solar\": \"Solar\",\n",
    "        \"nuclear\": \"Nuclear\",\n",
    "        \"coal\": \"Coal\",\n",
    "        \"geothermal\": \"Other\",\n",
    "    }\n",
    ")\n",
    "optimized = op_f / 1e3\n",
    "optimized"
   ]
  },
  {
   "cell_type": "code",
   "execution_count": null,
   "id": "70b7b414-de13-4bca-bb81-0c41ede2ddb3",
   "metadata": {},
   "outputs": [],
   "source": [
    "nw = pypsa.Network(\n",
    "    \"/Users/nomio/Documents/REU/Fall_2324/pypsa-usa-n/workflow/results/western/networks/elec_s_30_ec_lv1.25_Co2L0.75.nc\"\n",
    ")\n",
    "# columns_to_drop = [col for col in nw.generators_t[\"p\"].columns if 'Arizona' in col]\n",
    "# ba_carrier = nw.generators_t[\"p\"].drop(columns_to_drop, axis=1)\n",
    "nw.generators_t[\"p\"]"
   ]
  },
  {
   "cell_type": "code",
   "execution_count": null,
   "id": "f9878ee4-896f-46dc-8edd-9b18675862ff",
   "metadata": {},
   "outputs": [],
   "source": [
    "# nw = pypsa.Network(\"/Users/nomio/Documents/REU/Fall_2324/test/pypsa-usa/workflow/results/western/networks/elec_s_100_ec_lv1.25_Co2L1.25.nc\")\n",
    "from collections import OrderedDict\n",
    "\n",
    "buses = []\n",
    "for i in range(nw.generators.bus.size):\n",
    "    if nw.generators.bus[i] not in buses:\n",
    "        buses.append(nw.generators.bus[i])\n",
    "buses_clean = [ba.split(\"0\")[0] for ba in buses]\n",
    "buses_clean = [ba.split(\"-\")[0] for ba in buses_clean]\n",
    "buses = list(OrderedDict.fromkeys(buses_clean))\n",
    "buses\n",
    "# buses.pop(1)"
   ]
  },
  {
   "cell_type": "markdown",
   "id": "a25cc90a-7c88-4ff4-b770-98d5f7f11bb9",
   "metadata": {},
   "source": [
    "## Historic"
   ]
  },
  {
   "cell_type": "code",
   "execution_count": null,
   "id": "d6c6a015-5bc3-4d8d-963d-6e6ca28f6f17",
   "metadata": {},
   "outputs": [],
   "source": [
    "selected_cols = [\n",
    "    \"Balancing Authority\",\n",
    "    \"UTC Time at End of Hour\",\n",
    "    \"Net Generation (MW) from Natural Gas (Adjusted)\",\n",
    "    \"Net Generation (MW) from Coal (Adjusted)\",\n",
    "    \"Net Generation (MW) from Nuclear (Adjusted)\",\n",
    "    \"Net Generation (MW) from All Petroleum Products (Adjusted)\",\n",
    "    \"Net Generation (MW) from Hydropower and Pumped Storage (Adjusted)\",\n",
    "    \"Net Generation (MW) from Solar (Adjusted)\",\n",
    "    \"Net Generation (MW) from Wind (Adjusted)\",\n",
    "    \"Net Generation (MW) from Other Fuel Sources (Adjusted)\",\n",
    "]\n",
    "historic_first = pd.read_csv(\n",
    "    \"/Users/nomio/Documents/REU/Fall_2324/pypsa-usa-n/workflow/resources/eia/6moFiles/EIA930_BALANCE_2019_Jan_Jun.csv\",\n",
    "    index_col=[0, 1],\n",
    "    header=0,\n",
    "    parse_dates=True,\n",
    "    date_format=\"%m/%d/%Y %I:%M:%S %p\",\n",
    "    usecols=selected_cols,\n",
    ")\n",
    "historic_first_df = (\n",
    "    historic_first.loc[buses].fillna(0).replace({\",\": \"\"}, regex=True).astype(float)\n",
    ")\n",
    "historic_second = pd.read_csv(\n",
    "    \"/Users/nomio/Documents/REU/Fall_2324/pypsa-usa-n/workflow/resources/eia/6moFiles/EIA930_BALANCE_2019_Jul_Dec.csv\",\n",
    "    index_col=[0, 1],\n",
    "    header=0,\n",
    "    parse_dates=True,\n",
    "    date_format=\"%m/%d/%Y %I:%M:%S %p\",\n",
    "    usecols=selected_cols,\n",
    ")\n",
    "historic_second_df = (\n",
    "    historic_second.loc[buses].fillna(0).replace({\",\": \"\"}, regex=True).astype(float)\n",
    ")\n",
    "historic = (\n",
    "    pd.concat([historic_first_df, historic_second_df], axis=0)\n",
    "    .groupby([\"UTC Time at End of Hour\"])\n",
    "    .sum()\n",
    ")\n",
    "historic[historic < 0] = 0\n",
    "col_names = {\n",
    "    \"Net Generation (MW) from Natural Gas (Adjusted)\": \"Natural gas\",\n",
    "    \"Net Generation (MW) from Hydropower and Pumped Storage (Adjusted)\": \"Hydro\",\n",
    "    \"Net Generation (MW) from All Petroleum Products (Adjusted)\": \"Oil\",\n",
    "    \"Net Generation (MW) from Wind (Adjusted)\": \"Onshore wind\",\n",
    "    \"Net Generation (MW) from Solar (Adjusted)\": \"Solar\",\n",
    "    \"Net Generation (MW) from Nuclear (Adjusted)\": \"Nuclear\",\n",
    "    \"Net Generation (MW) from Coal (Adjusted)\": \"Coal\",\n",
    "    \"Net Generation (MW) from Other Fuel Sources (Adjusted)\": \"Other\",\n",
    "}\n",
    "historic = historic.rename(columns=col_names)\n",
    "rearrange = [\n",
    "    \"Natural gas\",\n",
    "    \"Coal\",\n",
    "    \"Other\",\n",
    "    \"Hydro\",\n",
    "    \"Nuclear\",\n",
    "    \"Oil\",\n",
    "    \"Onshore wind\",\n",
    "    \"Solar\",\n",
    "]\n",
    "historic = historic[rearrange].loc[\"2019-01-02 00:00:00\":\"2019-12-30 23:00:00\"] / 1e3"
   ]
  },
  {
   "cell_type": "code",
   "execution_count": null,
   "id": "31de4f78-c511-4020-835d-627b2a305a78",
   "metadata": {},
   "outputs": [],
   "source": [
    "historic - optimized\n",
    "historic[historic.index.duplicated(keep=False)]\n",
    "historic.loc[\"2019-07-01 00:00:00\":\"2019-07-01 10:00:00\"]"
   ]
  },
  {
   "cell_type": "markdown",
   "id": "18796e57-20cf-44cf-94ba-6c4b45b86947",
   "metadata": {},
   "source": [
    "## Plot"
   ]
  },
  {
   "cell_type": "code",
   "execution_count": null,
   "id": "62020822-c47f-4b4a-83b6-4739d96d4dbe",
   "metadata": {},
   "outputs": [],
   "source": [
    "fig, axes = plt.subplots(3, 1, figsize=(9, 9))\n",
    "colors = [\n",
    "    \"purple\",\n",
    "    \"dimgray\",\n",
    "    \"brown\",\n",
    "    \"royalblue\",\n",
    "    \"chocolate\",\n",
    "    \"green\",\n",
    "    \"lightskyblue\",\n",
    "    \"crimson\",\n",
    "]\n",
    "kwargs = dict(color=colors, legend=False, ylabel=\"Production [GW]\", xlabel=\"\")\n",
    "optimized.resample(\"1D\").sum().plot.area(ax=axes[0], **kwargs, title=\"Optimized\")\n",
    "historic.resample(\"1D\").sum().plot.area(ax=axes[1], **kwargs, title=\"Historic\")\n",
    "\n",
    "diff = (optimized - historic).fillna(0).resample(\"1D\").sum()\n",
    "diff.clip(lower=0).plot.area(\n",
    "    ax=axes[2], **kwargs, title=\"$\\Delta$ (Optimized - Historic)\"\n",
    ")\n",
    "lim = axes[2].get_ylim()[1]\n",
    "diff.clip(upper=0).plot.area(ax=axes[2], **kwargs)\n",
    "axes[2].set_ylim(bottom=-lim, top=lim)\n",
    "\n",
    "h, l = axes[0].get_legend_handles_labels()\n",
    "fig.legend(\n",
    "    h[::-1],\n",
    "    l[::-1],\n",
    "    loc=\"center left\",\n",
    "    bbox_to_anchor=(1, 0.5),\n",
    "    ncol=1,\n",
    "    frameon=False,\n",
    "    labelspacing=1,\n",
    ")"
   ]
  },
  {
   "cell_type": "code",
   "execution_count": null,
   "id": "518483fd-4008-4a8a-9533-28052590ce15",
   "metadata": {},
   "outputs": [],
   "source": [
    "data = pd.concat([historic, optimized], keys=[\"Historic\", \"Optimized\"], axis=1)\n",
    "data.columns.names = [\"Kind\", \"Carrier\"]\n",
    "data"
   ]
  },
  {
   "cell_type": "code",
   "execution_count": null,
   "id": "6dd27a10-0fc1-4e0c-a981-3a150864a130",
   "metadata": {},
   "outputs": [],
   "source": [
    "fig, ax = plt.subplots(figsize=(6, 6))\n",
    "\n",
    "df = data.groupby(level=[\"Kind\", \"Carrier\"], axis=1).sum().sum().unstack().T\n",
    "df = df / 1e3  # TWh\n",
    "df.plot.barh(ax=ax, xlabel=\"Electricity Production [TWh]\", ylabel=\"\")\n",
    "ax.grid(axis=\"y\")"
   ]
  },
  {
   "cell_type": "code",
   "execution_count": null,
   "id": "96389b65-eea2-41b2-b445-2ed8ac00aff4",
   "metadata": {},
   "outputs": [],
   "source": [
    "fig, ax = plt.subplots(figsize=(6, 10))\n",
    "\n",
    "df = data.sum() / 1e3  # TWh\n",
    "df = df[\"Optimized\"] - df[\"Historic\"]\n",
    "df = df.dropna().sort_values()\n",
    "# df = pd.concat([df.iloc[:5], df.iloc[-5:]])\n",
    "# c = colors[df.index.get_level_values(0)]\n",
    "df.plot.barh(xlabel=\"Optimized Production - Historic Production [TWh]\", ax=ax)\n",
    "ax.set_title(\"Strongest Deviations\")\n",
    "ax.grid(axis=\"y\")"
   ]
  },
  {
   "cell_type": "code",
   "execution_count": null,
   "id": "1185b8c0-1799-4b76-89a0-60de21a7b342",
   "metadata": {},
   "outputs": [],
   "source": [
    "df"
   ]
  },
  {
   "cell_type": "markdown",
   "id": "c9932561-98c5-45f9-8378-321966373ad4",
   "metadata": {},
   "source": [
    "## Ordering"
   ]
  },
  {
   "cell_type": "code",
   "execution_count": null,
   "id": "4acbd477-f197-4833-abbb-edaa68e0f7db",
   "metadata": {},
   "outputs": [],
   "source": [
    "order = (historic.diff().abs().sum() / historic.sum()).sort_values().index\n",
    "order"
   ]
  },
  {
   "cell_type": "code",
   "execution_count": null,
   "id": "11c8e6a7-4996-4aa3-9150-679e61e0382f",
   "metadata": {},
   "outputs": [],
   "source": [
    "optimized = optimized.reindex(order, axis=1, level=1)\n",
    "historic = historic.reindex(order, axis=1, level=1)"
   ]
  },
  {
   "cell_type": "code",
   "execution_count": null,
   "id": "827e4ed0-2359-4e3b-8bd0-241147b21d95",
   "metadata": {},
   "outputs": [],
   "source": [
    "optimized"
   ]
  },
  {
   "cell_type": "code",
   "execution_count": null,
   "id": "c17d71e3-2d05-435e-b5c4-d8eb9d5d039d",
   "metadata": {},
   "outputs": [],
   "source": [
    "fig, ax = plt.subplots(figsize=(6, 10))\n",
    "diff = (optimized - historic).sum() / 1e3  # in TW\n",
    "diff = diff.dropna().sort_values()\n",
    "diff.plot.barh(xlabel=\"Optimized Production - Historic Production [TWh]\", ax=ax)\n",
    "ax.set_title(\"Strongest Deviations\")\n",
    "ax.grid(axis=\"y\")"
   ]
  },
  {
   "cell_type": "code",
   "execution_count": null,
   "id": "4eb3c2e6-ff49-4276-b158-5ab8903bdc45",
   "metadata": {},
   "outputs": [],
   "source": [
    "optimized[\"Solar\"].sum()"
   ]
  },
  {
   "cell_type": "code",
   "execution_count": null,
   "id": "31fbc336-6345-4bbd-9975-9315f7c81024",
   "metadata": {},
   "outputs": [],
   "source": []
  }
 ],
 "metadata": {
  "kernelspec": {
   "display_name": "pypsa-usa",
   "language": "python",
   "name": "pypsa-usa"
  },
  "language_info": {
   "codemirror_mode": {
    "name": "ipython",
    "version": 3
   },
   "file_extension": ".py",
   "mimetype": "text/x-python",
   "name": "python",
   "nbconvert_exporter": "python",
   "pygments_lexer": "ipython3",
   "version": "3.11.3"
  }
 },
 "nbformat": 4,
 "nbformat_minor": 5
}
