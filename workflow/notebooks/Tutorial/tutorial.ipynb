{
 "cells": [
  {
   "cell_type": "markdown",
   "metadata": {},
   "source": [
    "# PyPSA-USA Tutorial"
   ]
  },
  {
   "cell_type": "code",
   "execution_count": null,
   "metadata": {},
   "outputs": [],
   "source": [
    "import pypsa\n",
    "import os"
   ]
  },
  {
   "cell_type": "code",
   "execution_count": null,
   "metadata": {},
   "outputs": [],
   "source": [
    "# Wildcards:\n",
    "num_clusters = 20\n",
    "interconnect = \"texas\"\n",
    "opts = \"Ep\"\n",
    "ll = \"v1.0\"\n",
    "sector = \"E\"\n",
    "\n",
    "run_name = \"Tutorial\"\n",
    "\n",
    "\n",
    "resources_folder = os.path.join(\n",
    "    os.path.dirname(os.getcwd()), \"../\", \"resources\", run_name\n",
    ")\n",
    "results_folder = os.path.join(os.path.dirname(os.getcwd()), \"../\", \"results\", run_name)\n",
    "\n",
    "\n",
    "n_base_network = pypsa.Network(\n",
    "    os.path.join(resources_folder, f\"{interconnect}/elec_base_network.nc\")\n",
    ")\n",
    "network_elec = pypsa.Network(\n",
    "    os.path.join(resources_folder, f\"{interconnect}/elec_base_network_l_pp.nc\")\n",
    ")\n",
    "network_s = pypsa.Network(os.path.join(resources_folder, f\"{interconnect}/elec_s.nc\"))\n",
    "network_c = pypsa.Network(\n",
    "    os.path.join(resources_folder, f\"{interconnect}/elec_s_{num_clusters}.nc\")\n",
    ")\n",
    "network_c_ec = pypsa.Network(\n",
    "    os.path.join(resources_folder, f\"{interconnect}/elec_s_{num_clusters}_ec.nc\")\n",
    ")\n",
    "# network_presolve = pypsa.Network(\n",
    "#     os.path.join(\n",
    "#         resources_folder,\n",
    "#         f\"{interconnect}/elec_s_{num_clusters}_ec_l{ll}_{opts}_{sector}.nc\",\n",
    "#     )\n",
    "# )\n",
    "# network_solved = pypsa.Network(\n",
    "#     os.path.join(\n",
    "#         results_folder,\n",
    "#         f\"{interconnect}/networks/elec_s_{num_clusters}_ec_l{ll}_{opts}_{sector}.nc\",\n",
    "#     )\n",
    "# )"
   ]
  },
  {
   "cell_type": "markdown",
   "metadata": {},
   "source": [
    "### Base Network\n",
    "Reads in Breakthrough Energy/TAMU transmission dataset, and converts it into PyPSA compatible components. A base netowork file (`*.nc`) is written out. Included in this network are: Bus-Region memberships, Geolocated buses, Geoloactated AC and DC transmission lines + links, Transformers"
   ]
  },
  {
   "cell_type": "code",
   "execution_count": null,
   "metadata": {},
   "outputs": [],
   "source": [
    "n_base_network.investment_periods"
   ]
  },
  {
   "cell_type": "markdown",
   "metadata": {},
   "source": [
    "### Add Electricity\n",
    "This module integrates data produced by `build_renewable_profiles`, `build_demand`, `build_cost_data`, `build_fuel_prices`, and `build_base_network` to create a network model that includes generators, demand, and costs. The module attaches generators, storage units, and loads to the network created by `build_base_network`. Each generator is assigned regional capital costs, and regional and daily or monthly marginal costs."
   ]
  },
  {
   "cell_type": "code",
   "execution_count": null,
   "metadata": {},
   "outputs": [],
   "source": [
    "network_elec.investment_periods"
   ]
  },
  {
   "cell_type": "code",
   "execution_count": null,
   "metadata": {},
   "outputs": [],
   "source": [
    "network_elec.generators"
   ]
  },
  {
   "cell_type": "markdown",
   "metadata": {},
   "source": [
    "### Simplified Network\n",
    "Aggregates network to substations and simplifies to a single voltage level, and trims spur line-ends."
   ]
  },
  {
   "cell_type": "code",
   "execution_count": null,
   "metadata": {},
   "outputs": [],
   "source": [
    "network_s.loads_t.p_set"
   ]
  },
  {
   "cell_type": "markdown",
   "metadata": {},
   "source": [
    "### Cluster Network\n",
    "Creates networks clustered to ``{cluster}`` number of zones with aggregated\n",
    "buses, generators and transmission corridors."
   ]
  },
  {
   "cell_type": "code",
   "execution_count": null,
   "metadata": {},
   "outputs": [],
   "source": [
    "network_c"
   ]
  },
  {
   "cell_type": "code",
   "execution_count": null,
   "metadata": {},
   "outputs": [],
   "source": [
    "network_c.generators_t.p_max_pu.groupby(\n",
    "    network_c.generators.carrier, axis=1\n",
    ").mean().plot()"
   ]
  },
  {
   "cell_type": "markdown",
   "metadata": {},
   "source": [
    "### Add Extra Components\n",
    "Adds extendible components like battery energy storage, extendable conventional plants, and hydrogen infrastructure to the simplified network.\n"
   ]
  },
  {
   "cell_type": "code",
   "execution_count": null,
   "metadata": {},
   "outputs": [],
   "source": [
    "network_c_ec"
   ]
  },
  {
   "cell_type": "code",
   "execution_count": null,
   "metadata": {},
   "outputs": [],
   "source": [
    "network_c_ec.investment_periods"
   ]
  },
  {
   "cell_type": "markdown",
   "metadata": {},
   "source": [
    "### Prepare Network\n",
    "Prepare PyPSA network for solving according to `opts` and `ll`, such\n",
    "as.\n",
    "- adding an annual **limit** of carbon-dioxide emissions,\n",
    "- adding an exogenous **price** per tonne emissions of carbon-dioxide (or other kinds),\n",
    "- setting an **N-1 security margin** factor for transmission line capacities,\n",
    "- specifying an expansion limit on the **cost** of transmission expansion,\n",
    "- specifying an expansion limit on the **volume** of transmission expansion, and\n",
    "- reducing the **temporal** resolution by averaging over multiple hours\n",
    "  or segmenting time series into chunks of varying lengths using ``tsam``."
   ]
  },
  {
   "cell_type": "code",
   "execution_count": null,
   "metadata": {},
   "outputs": [],
   "source": [
    "network_presolve.global_constraints"
   ]
  },
  {
   "cell_type": "code",
   "execution_count": null,
   "metadata": {},
   "outputs": [],
   "source": [
    "network_presolve.optimize(solver_name=\"gurobi\")"
   ]
  },
  {
   "cell_type": "code",
   "execution_count": null,
   "metadata": {},
   "outputs": [],
   "source": [
    "network_presolve.lines_t.p0.plot(legend=False)"
   ]
  },
  {
   "cell_type": "code",
   "execution_count": null,
   "metadata": {},
   "outputs": [],
   "source": [
    "network_presolve.generators_t.p"
   ]
  },
  {
   "cell_type": "markdown",
   "metadata": {},
   "source": [
    "### Solve Network"
   ]
  },
  {
   "cell_type": "code",
   "execution_count": null,
   "metadata": {},
   "outputs": [],
   "source": [
    "network_solved"
   ]
  }
 ],
 "metadata": {
  "kernelspec": {
   "display_name": "pypsa-usa",
   "language": "python",
   "name": "python3"
  },
  "language_info": {
   "codemirror_mode": {
    "name": "ipython",
    "version": 3
   },
   "file_extension": ".py",
   "mimetype": "text/x-python",
   "name": "python",
   "nbconvert_exporter": "python",
   "pygments_lexer": "ipython3",
   "version": "3.11.9"
  }
 },
 "nbformat": 4,
 "nbformat_minor": 2
}
